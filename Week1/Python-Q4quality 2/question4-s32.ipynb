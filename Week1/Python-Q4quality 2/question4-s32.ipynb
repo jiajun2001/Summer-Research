{
 "cells": [
  {
   "cell_type": "code",
   "execution_count": null,
   "id": "1e700474",
   "metadata": {},
   "outputs": [],
   "source": [
    "# enter your code here\n",
    "m = int(input(\"please intput an interger: \"))\n",
    "n = int(input(\"please intput an interger: \"))"
   ]
  },
  {
   "cell_type": "code",
   "execution_count": null,
   "id": "cff58a90",
   "metadata": {},
   "outputs": [],
   "source": [
    "li = []"
   ]
  },
  {
   "cell_type": "code",
   "execution_count": null,
   "id": "03bc6c12",
   "metadata": {},
   "outputs": [],
   "source": [
    "for x in range(m , n + 1):\n",
    "    if x%2 == 0 or x%3 == 0:\n",
    "        if x%6 != 0:\n",
    "            li.append(x)\n",
    "    else:\n",
    "        continue"
   ]
  },
  {
   "cell_type": "code",
   "execution_count": null,
   "id": "3d13538f",
   "metadata": {},
   "outputs": [],
   "source": [
    "print(li)"
   ]
  }
 ],
 "metadata": {
  "jupytext": {
   "cell_metadata_filter": "-all",
   "main_language": "python",
   "notebook_metadata_filter": "-all"
  }
 },
 "nbformat": 4,
 "nbformat_minor": 5
}
