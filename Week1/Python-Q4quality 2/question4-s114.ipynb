{
 "cells": [
  {
   "cell_type": "code",
   "execution_count": null,
   "id": "af4bc4ef",
   "metadata": {},
   "outputs": [],
   "source": [
    "# input\n",
    "m = input(f'Please input an integer m: ')\n",
    "m = int(m)\n",
    "n = input(f'Please input an integer n: ')\n",
    "n = int(n)\n",
    "print(f'The variable m is {m} and n is {n}')"
   ]
  },
  {
   "cell_type": "code",
   "execution_count": null,
   "id": "9e0ba398",
   "metadata": {},
   "outputs": [],
   "source": [
    "#create list\n",
    "li_2 = []\n",
    "for i in range(m, n):\n",
    "    if i % 3 == 0 or i % 2 == 0:\n",
    "        if i % 6 != 0:\n",
    "            li_2.append(i)\n",
    "print(li_2)"
   ]
  }
 ],
 "metadata": {
  "jupytext": {
   "cell_metadata_filter": "-all",
   "main_language": "python",
   "notebook_metadata_filter": "-all"
  }
 },
 "nbformat": 4,
 "nbformat_minor": 5
}
