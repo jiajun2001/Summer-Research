{
 "cells": [
  {
   "cell_type": "code",
   "execution_count": null,
   "id": "1697032f",
   "metadata": {},
   "outputs": [],
   "source": [
    "m = input('please input an interger:')\n",
    "n = input('please input an interger:')\n",
    "m=int(m)\n",
    "n=int(n)"
   ]
  },
  {
   "cell_type": "code",
   "execution_count": null,
   "id": "b1aa9a17",
   "metadata": {},
   "outputs": [],
   "source": [
    "li=[]\n",
    "list=[]\n",
    "for i in range(10,21):\n",
    "    if i%3==0 or i%2==0:\n",
    "        li.append(i)\n",
    "for e in li:\n",
    "    if e%6!=0:\n",
    "        list.append(e)\n",
    "print(list)"
   ]
  }
 ],
 "metadata": {
  "jupytext": {
   "cell_metadata_filter": "-all",
   "main_language": "python",
   "notebook_metadata_filter": "-all"
  }
 },
 "nbformat": 4,
 "nbformat_minor": 5
}
