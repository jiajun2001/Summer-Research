{
 "cells": [
  {
   "cell_type": "code",
   "execution_count": null,
   "id": "9ffb2207",
   "metadata": {},
   "outputs": [],
   "source": [
    "# enter your code here\n",
    "m = int(input(\"Please input an integer: \"))\n",
    "n = int(input(\"Please input an integer: \"))\n",
    "li = []\n",
    "for i in range(m , n + 1):\n",
    "    if(i >= m and i <= n and (i % 3 == 0 or i % 2 == 0) and i % 6 != 0):\n",
    "        li.append(i)\n",
    "print(li)"
   ]
  }
 ],
 "metadata": {
  "jupytext": {
   "cell_metadata_filter": "-all",
   "main_language": "python",
   "notebook_metadata_filter": "-all"
  }
 },
 "nbformat": 4,
 "nbformat_minor": 5
}
