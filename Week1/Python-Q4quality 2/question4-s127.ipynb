{
 "cells": [
  {
   "cell_type": "code",
   "execution_count": null,
   "id": "66e193fb",
   "metadata": {},
   "outputs": [],
   "source": [
    "#prompts the user to input the integers and stores them as variables\n",
    "m = int(input(\"Please input an integer: \"))\n",
    "n = int(input(\"Please input another integer: \"))"
   ]
  },
  {
   "cell_type": "code",
   "execution_count": null,
   "id": "bab77916",
   "metadata": {},
   "outputs": [],
   "source": [
    "li = []      #initially defines the blank list"
   ]
  },
  {
   "cell_type": "code",
   "execution_count": null,
   "id": "945cf836",
   "metadata": {},
   "outputs": [],
   "source": [
    "for i in range(m, n+1):   #runs a loop for index values of m to n\n",
    "    if ((i % 2 == 0 or i % 3 == 0) and i % 6 != 0):     #checks if the value i is divisible by (3 OR 2), AND is not divisible by 6\n",
    "        li.append(i)\n",
    "print(li)           #print the resulting list"
   ]
  }
 ],
 "metadata": {
  "jupytext": {
   "cell_metadata_filter": "-all",
   "main_language": "python",
   "notebook_metadata_filter": "-all"
  }
 },
 "nbformat": 4,
 "nbformat_minor": 5
}
