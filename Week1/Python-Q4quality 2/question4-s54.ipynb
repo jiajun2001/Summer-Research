{
 "cells": [
  {
   "cell_type": "code",
   "execution_count": null,
   "id": "ce933b1b",
   "metadata": {},
   "outputs": [],
   "source": [
    "# enter your code here\n",
    "m = int(input('Please input an integer: '))\n",
    "n = int(input('Please input an integer: '))"
   ]
  },
  {
   "cell_type": "code",
   "execution_count": null,
   "id": "bba77274",
   "metadata": {},
   "outputs": [],
   "source": [
    "# for loop\n",
    "li3 = []"
   ]
  },
  {
   "cell_type": "code",
   "execution_count": null,
   "id": "e9a16c7b",
   "metadata": {},
   "outputs": [],
   "source": [
    "for i in range(m,n+1): # range - larger than or euqal to m and smaller than n\n",
    "    if i % 2 == 0 or i % 3 == 0: # add all numbers can divisible by 2 or 3\n",
    "        li3.append(i)\n",
    "    if i % 6 == 0: # remove the numbers can not divisible by 6\n",
    "        li3.remove(i)"
   ]
  },
  {
   "cell_type": "code",
   "execution_count": null,
   "id": "f3122d02",
   "metadata": {},
   "outputs": [],
   "source": [
    "print(li3)"
   ]
  }
 ],
 "metadata": {
  "jupytext": {
   "cell_metadata_filter": "-all",
   "main_language": "python",
   "notebook_metadata_filter": "-all"
  }
 },
 "nbformat": 4,
 "nbformat_minor": 5
}
