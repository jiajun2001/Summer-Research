{
 "cells": [
  {
   "cell_type": "markdown",
   "id": "605e86cd",
   "metadata": {},
   "source": [
    "enter your code here"
   ]
  },
  {
   "cell_type": "code",
   "execution_count": null,
   "id": "919e7a6e",
   "metadata": {},
   "outputs": [],
   "source": [
    "m = int(input(\"Please input an integer: \"))\n",
    "n = int(input(\"Please input an integer: \"))"
   ]
  },
  {
   "cell_type": "code",
   "execution_count": null,
   "id": "cf432a6f",
   "metadata": {},
   "outputs": [],
   "source": [
    "newlist3 = []\n",
    "for i in range(m,n+1):\n",
    "    if (i % 6 !=0) and ((i % 3 == 0) or (i % 2 == 0)): \n",
    "        newlist3.append(i)"
   ]
  },
  {
   "cell_type": "code",
   "execution_count": null,
   "id": "aaecf610",
   "metadata": {},
   "outputs": [],
   "source": [
    "print(newlist3)"
   ]
  }
 ],
 "metadata": {
  "jupytext": {
   "cell_metadata_filter": "-all",
   "main_language": "python",
   "notebook_metadata_filter": "-all"
  }
 },
 "nbformat": 4,
 "nbformat_minor": 5
}
