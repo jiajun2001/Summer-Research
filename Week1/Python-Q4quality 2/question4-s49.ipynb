{
 "cells": [
  {
   "cell_type": "code",
   "execution_count": null,
   "id": "7099d14b",
   "metadata": {},
   "outputs": [],
   "source": [
    "# enter your code here\n",
    "m = int(input ('Please input first number:'))\n",
    "n = int(input ('Please input second number:'))"
   ]
  },
  {
   "cell_type": "code",
   "execution_count": null,
   "id": "ab0d9947",
   "metadata": {},
   "outputs": [],
   "source": [
    "lis = list(range(m, n))\n",
    "ans = []\n",
    "for x in lis:\n",
    "    if x % 3 == 0 or x % 2 == 0:\n",
    "        if x % 6 == 0:\n",
    "            nothing = 'nothing'\n",
    "        else:\n",
    "            ans.append(x)"
   ]
  },
  {
   "cell_type": "code",
   "execution_count": null,
   "id": "538213f6",
   "metadata": {},
   "outputs": [],
   "source": [
    "print (ans)"
   ]
  }
 ],
 "metadata": {
  "jupytext": {
   "cell_metadata_filter": "-all",
   "main_language": "python",
   "notebook_metadata_filter": "-all"
  }
 },
 "nbformat": 4,
 "nbformat_minor": 5
}
