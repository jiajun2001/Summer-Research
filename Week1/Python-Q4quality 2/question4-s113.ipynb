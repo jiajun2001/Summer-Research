{
 "cells": [
  {
   "cell_type": "code",
   "execution_count": null,
   "id": "149ea389",
   "metadata": {},
   "outputs": [],
   "source": [
    "# enter your code here\n",
    "m = int(input(\"Please input an integer: \"))\n",
    "n = int(input(\"Please input an integer: \"))\n",
    "print(f\"m is {m}, n is {n}\")"
   ]
  },
  {
   "cell_type": "code",
   "execution_count": null,
   "id": "290d4188",
   "metadata": {},
   "outputs": [],
   "source": [
    "Q4List = []\n",
    "for x in range(m,n+1):\n",
    "    if (x/6)-int(x/6) != 0:\n",
    "        if (x/3)-int(x/3) == 0 or (x/2)-int(x/2) == 0:\n",
    "            Q4List.append(x)\n",
    "print(Q4List)"
   ]
  }
 ],
 "metadata": {
  "jupytext": {
   "cell_metadata_filter": "-all",
   "main_language": "python",
   "notebook_metadata_filter": "-all"
  }
 },
 "nbformat": 4,
 "nbformat_minor": 5
}
