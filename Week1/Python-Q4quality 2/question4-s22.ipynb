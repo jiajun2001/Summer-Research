{
 "cells": [
  {
   "cell_type": "code",
   "execution_count": null,
   "id": "22fb45fa",
   "metadata": {},
   "outputs": [],
   "source": [
    "# enter your code here\n",
    "m = int(input(f'Please input an integer: '))\n",
    "n = int(input(f'Please input an integer: '))\n",
    "li3 = []"
   ]
  },
  {
   "cell_type": "code",
   "execution_count": null,
   "id": "8fe16894",
   "metadata": {},
   "outputs": [],
   "source": [
    "for i in range(m, n+1):\n",
    "    if i % 6 == 0:\n",
    "        continue\n",
    "    elif i % 3 == 0 & i % 2 == 0:\n",
    "        li3.append(i)\n",
    "    elif i % 3 == 0:\n",
    "        li3.append(i)\n",
    "    elif i % 2 == 0:\n",
    "        li3.append(i)\n",
    "    elif i % 6 == 0:\n",
    "        continue"
   ]
  },
  {
   "cell_type": "code",
   "execution_count": null,
   "id": "bde940e9",
   "metadata": {},
   "outputs": [],
   "source": [
    "print(li3)"
   ]
  }
 ],
 "metadata": {
  "jupytext": {
   "cell_metadata_filter": "-all",
   "main_language": "python",
   "notebook_metadata_filter": "-all"
  }
 },
 "nbformat": 4,
 "nbformat_minor": 5
}
