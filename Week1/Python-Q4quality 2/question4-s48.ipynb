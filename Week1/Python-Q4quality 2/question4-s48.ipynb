{
 "cells": [
  {
   "cell_type": "code",
   "execution_count": null,
   "id": "8f659134",
   "metadata": {},
   "outputs": [],
   "source": [
    "m = int(input(\"Please input an integer: \"))\n",
    "n = int(input(\"Please input an integer: \"))"
   ]
  },
  {
   "cell_type": "code",
   "execution_count": null,
   "id": "3c1c560d",
   "metadata": {},
   "outputs": [],
   "source": [
    "values = []"
   ]
  },
  {
   "cell_type": "code",
   "execution_count": null,
   "id": "bf89ed10",
   "metadata": {},
   "outputs": [],
   "source": [
    "between = m-1"
   ]
  },
  {
   "cell_type": "code",
   "execution_count": null,
   "id": "2782c781",
   "metadata": {},
   "outputs": [],
   "source": [
    "for i in range(m,n+1):\n",
    "    between += 1\n",
    "    if between%6!=0:\n",
    "        if between%3 ==0:\n",
    "            values += [between]\n",
    "        elif between%2==0:\n",
    "            values += [between]\n",
    "print(values)"
   ]
  }
 ],
 "metadata": {
  "jupytext": {
   "cell_metadata_filter": "-all",
   "main_language": "python",
   "notebook_metadata_filter": "-all"
  }
 },
 "nbformat": 4,
 "nbformat_minor": 5
}
