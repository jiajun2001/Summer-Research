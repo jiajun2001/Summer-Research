{
 "cells": [
  {
   "cell_type": "code",
   "execution_count": null,
   "id": "2bcf2120",
   "metadata": {},
   "outputs": [],
   "source": [
    "# enter your code here\n",
    "m = input('Please input an integer:')\n",
    "n = input('Please input an integer:')"
   ]
  },
  {
   "cell_type": "code",
   "execution_count": null,
   "id": "31e53ca1",
   "metadata": {},
   "outputs": [],
   "source": [
    "lis = []\n",
    "m = int(m)\n",
    "n = int(n)\n",
    "for i in range (m,n+1):\n",
    "    if i % 3 == 0 and i % 6 != 0:\n",
    "        lis.append(i)\n",
    "    if i % 2 == 0 and i % 6 != 0:\n",
    "        lis.append(i)\n",
    "print(lis)"
   ]
  }
 ],
 "metadata": {
  "jupytext": {
   "cell_metadata_filter": "-all",
   "main_language": "python",
   "notebook_metadata_filter": "-all"
  }
 },
 "nbformat": 4,
 "nbformat_minor": 5
}
