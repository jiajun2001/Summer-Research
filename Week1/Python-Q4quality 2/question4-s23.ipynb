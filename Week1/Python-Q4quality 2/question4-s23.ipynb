{
 "cells": [
  {
   "cell_type": "code",
   "execution_count": null,
   "id": "6d9de81f",
   "metadata": {},
   "outputs": [],
   "source": [
    "# enter your code here\n",
    "m = input('Please input an integer: ')\n",
    "m = int(m)"
   ]
  },
  {
   "cell_type": "code",
   "execution_count": null,
   "id": "1cf35cbd",
   "metadata": {},
   "outputs": [],
   "source": [
    "n = input('Please input an integer: ')\n",
    "n = int(n)"
   ]
  },
  {
   "cell_type": "code",
   "execution_count": null,
   "id": "6875a38d",
   "metadata": {},
   "outputs": [],
   "source": [
    "num_list = []"
   ]
  },
  {
   "cell_type": "code",
   "execution_count": null,
   "id": "f242f9a0",
   "metadata": {},
   "outputs": [],
   "source": [
    "for x in range(m, n+1):\n",
    "    if x >= m:\n",
    "        if x <= n:\n",
    "            if x % 3 == 0 or x % 2 == 0:\n",
    "                if x % 6 != 0:\n",
    "                    num_list.append(x)"
   ]
  },
  {
   "cell_type": "code",
   "execution_count": null,
   "id": "7b926f9b",
   "metadata": {},
   "outputs": [],
   "source": [
    "print(num_list)"
   ]
  }
 ],
 "metadata": {
  "jupytext": {
   "cell_metadata_filter": "-all",
   "main_language": "python",
   "notebook_metadata_filter": "-all"
  }
 },
 "nbformat": 4,
 "nbformat_minor": 5
}
