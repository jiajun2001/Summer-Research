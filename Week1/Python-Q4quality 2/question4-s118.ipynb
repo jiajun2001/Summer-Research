{
 "cells": [
  {
   "cell_type": "code",
   "execution_count": null,
   "id": "5cd77bf7",
   "metadata": {},
   "outputs": [],
   "source": [
    "# enter your code here\n",
    "m = int(input(\"Please input an integer: \"))\n",
    "n = int(input(\"Please input an integer: \"))"
   ]
  },
  {
   "cell_type": "code",
   "execution_count": null,
   "id": "70096914",
   "metadata": {},
   "outputs": [],
   "source": [
    "my_list = []\n",
    "for i in range(m, n + 1): #Added +1 to n otherwise it will stop at 19 even though n = 20\n",
    "    if i >= m and i <= n: #Checks if i is greater or equal to m and that i is also smaller or equal to n\n",
    "        if i % 3 == 0 or i % 2 == 0: #Checks if i is divisible by 3 or that i is divisible by 2\n",
    "            if not i % 6 == 0: #Checks if i is NOT divisible by 6\n",
    "                my_list.append(i) #If the above if statements are True, i will be added to my_list"
   ]
  },
  {
   "cell_type": "code",
   "execution_count": null,
   "id": "9243c62c",
   "metadata": {},
   "outputs": [],
   "source": [
    "print(my_list)"
   ]
  }
 ],
 "metadata": {
  "jupytext": {
   "cell_metadata_filter": "-all",
   "main_language": "python",
   "notebook_metadata_filter": "-all"
  }
 },
 "nbformat": 4,
 "nbformat_minor": 5
}
