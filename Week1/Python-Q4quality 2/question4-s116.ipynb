{
 "cells": [
  {
   "cell_type": "code",
   "execution_count": null,
   "id": "cea7542d",
   "metadata": {},
   "outputs": [],
   "source": [
    "# enter your code here\n",
    "m = int(input (\"m: \"))\n",
    "n = int(input (\"n: \"))"
   ]
  },
  {
   "cell_type": "code",
   "execution_count": null,
   "id": "b749805a",
   "metadata": {},
   "outputs": [],
   "source": [
    "list_Q4 = []\n",
    "for i in range(m,n+1):\n",
    "    if i % 3 == 0 and i % 6 !=0:\n",
    "        list_Q4.append(i)\n",
    "    if i % 2 == 0 and i % 6 != 0:\n",
    "        list_Q4.append(i)\n",
    "print(list_Q4)"
   ]
  }
 ],
 "metadata": {
  "jupytext": {
   "cell_metadata_filter": "-all",
   "main_language": "python",
   "notebook_metadata_filter": "-all"
  }
 },
 "nbformat": 4,
 "nbformat_minor": 5
}
