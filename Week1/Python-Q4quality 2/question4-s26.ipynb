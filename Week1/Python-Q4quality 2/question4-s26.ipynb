{
 "cells": [
  {
   "cell_type": "code",
   "execution_count": null,
   "id": "0566f6f2",
   "metadata": {},
   "outputs": [],
   "source": [
    "m = int(input('Please enter an integer for m: '))\n",
    "n = int(input('Please enter an integer for n: '))"
   ]
  },
  {
   "cell_type": "code",
   "execution_count": null,
   "id": "56f2e6ba",
   "metadata": {},
   "outputs": [],
   "source": [
    "mn_condition_list = []"
   ]
  },
  {
   "cell_type": "code",
   "execution_count": null,
   "id": "6f3f6e05",
   "metadata": {},
   "outputs": [],
   "source": [
    "for i in range(m,n+1):\n",
    "    if i>=m and i<=n:\n",
    "        if i%2 == 0 or i%3 == 0:\n",
    "            if i%6 != 0:\n",
    "                mn_condition_list.append(i)"
   ]
  },
  {
   "cell_type": "code",
   "execution_count": null,
   "id": "d3edbcaf",
   "metadata": {},
   "outputs": [],
   "source": [
    "print(mn_condition_list)"
   ]
  }
 ],
 "metadata": {
  "jupytext": {
   "cell_metadata_filter": "-all",
   "main_language": "python",
   "notebook_metadata_filter": "-all"
  }
 },
 "nbformat": 4,
 "nbformat_minor": 5
}
