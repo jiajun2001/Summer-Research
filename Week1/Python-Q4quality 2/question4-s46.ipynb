{
 "cells": [
  {
   "cell_type": "code",
   "execution_count": null,
   "id": "7960e397",
   "metadata": {},
   "outputs": [],
   "source": [
    "# enter your code here\n",
    "m = int(input(\"Please input an integer: \"))\n",
    "n = int(input(\"Please input an integer: \"))"
   ]
  },
  {
   "cell_type": "code",
   "execution_count": null,
   "id": "6241ba36",
   "metadata": {},
   "outputs": [],
   "source": [
    "new_num_list = []\n",
    "for num in range(m, n+1):\n",
    "    if num % 6 != 0:\n",
    "        if num % 2 == 0 or num % 3 == 0 :\n",
    "            new_num_list.append(num)"
   ]
  },
  {
   "cell_type": "code",
   "execution_count": null,
   "id": "9206a61f",
   "metadata": {
    "lines_to_next_cell": 2
   },
   "outputs": [],
   "source": [
    "print(new_num_list)"
   ]
  }
 ],
 "metadata": {
  "jupytext": {
   "cell_metadata_filter": "-all",
   "main_language": "python",
   "notebook_metadata_filter": "-all"
  }
 },
 "nbformat": 4,
 "nbformat_minor": 5
}
