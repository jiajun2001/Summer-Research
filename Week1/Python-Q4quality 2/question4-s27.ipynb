{
 "cells": [
  {
   "cell_type": "code",
   "execution_count": null,
   "id": "4c22d7f7",
   "metadata": {},
   "outputs": [],
   "source": [
    "# enter your code here\n",
    "m= int(input(\" Please input an integer : \"))\n",
    "n=int(input(\" Please input an integer : \"))"
   ]
  },
  {
   "cell_type": "code",
   "execution_count": null,
   "id": "9c954f9f",
   "metadata": {},
   "outputs": [],
   "source": [
    "lis=[]\n",
    "for j in range(m,n+1):\n",
    "    if j%3 == 0 or j%2 == 0:\n",
    "        if j%6!=0:\n",
    "        \n",
    "            lis.append(j)"
   ]
  },
  {
   "cell_type": "code",
   "execution_count": null,
   "id": "26304571",
   "metadata": {},
   "outputs": [],
   "source": [
    "print(lis)"
   ]
  }
 ],
 "metadata": {
  "jupytext": {
   "cell_metadata_filter": "-all",
   "main_language": "python",
   "notebook_metadata_filter": "-all"
  }
 },
 "nbformat": 4,
 "nbformat_minor": 5
}
