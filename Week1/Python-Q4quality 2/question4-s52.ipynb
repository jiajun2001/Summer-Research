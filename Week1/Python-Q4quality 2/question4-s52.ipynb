{
 "cells": [
  {
   "cell_type": "code",
   "execution_count": null,
   "id": "0f44fe4f",
   "metadata": {},
   "outputs": [],
   "source": [
    "# enter your code here\n",
    "m = input('Input your integer here: ')\n",
    "m = int(m)\n",
    "n = input('Input your second integer here: ')\n",
    "n = int(n)"
   ]
  },
  {
   "cell_type": "code",
   "execution_count": null,
   "id": "96ef4f78",
   "metadata": {},
   "outputs": [],
   "source": [
    "list_2 = []"
   ]
  },
  {
   "cell_type": "code",
   "execution_count": null,
   "id": "5fbe07b4",
   "metadata": {},
   "outputs": [],
   "source": [
    "for i in range(m,n+1):\n",
    "    if i >= m and i <= n:\n",
    "        if i%3 == 0 or i%2 == 0:\n",
    "            if i%6 != 0:\n",
    "                list_2.append(i)\n",
    "print(list_2)"
   ]
  }
 ],
 "metadata": {
  "jupytext": {
   "cell_metadata_filter": "-all",
   "main_language": "python",
   "notebook_metadata_filter": "-all"
  }
 },
 "nbformat": 4,
 "nbformat_minor": 5
}
