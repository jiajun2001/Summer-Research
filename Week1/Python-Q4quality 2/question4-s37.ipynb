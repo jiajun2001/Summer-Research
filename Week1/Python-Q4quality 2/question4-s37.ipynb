{
 "cells": [
  {
   "cell_type": "code",
   "execution_count": null,
   "id": "e74849d9",
   "metadata": {},
   "outputs": [],
   "source": [
    "# enter your code here\n",
    "m=int(input(\"Please input an integer: \"))\n",
    "n=int(input('Please input another integer: '))"
   ]
  },
  {
   "cell_type": "code",
   "execution_count": null,
   "id": "7c8ea98e",
   "metadata": {},
   "outputs": [],
   "source": [
    "list4=[]\n",
    "list5=[]\n",
    "for u in range(m,n+1):\n",
    "    if u%6==0:\n",
    "        pass\n",
    "    elif u%2==0 or u%3==0:\n",
    "        list4.append(u)"
   ]
  },
  {
   "cell_type": "code",
   "execution_count": null,
   "id": "d6eb2097",
   "metadata": {},
   "outputs": [],
   "source": [
    "print(list4)"
   ]
  }
 ],
 "metadata": {
  "jupytext": {
   "cell_metadata_filter": "-all",
   "main_language": "python",
   "notebook_metadata_filter": "-all"
  }
 },
 "nbformat": 4,
 "nbformat_minor": 5
}
