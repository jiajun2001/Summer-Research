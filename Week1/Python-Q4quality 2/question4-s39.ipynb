{
 "cells": [
  {
   "cell_type": "code",
   "execution_count": null,
   "id": "22e2b5d3",
   "metadata": {},
   "outputs": [],
   "source": [
    "m = input(\"Please enter an integer: \")\n",
    "m = int(m)\n",
    "n = input(\"Please enter another integer: \")\n",
    "n = int(n)"
   ]
  },
  {
   "cell_type": "code",
   "execution_count": null,
   "id": "b902fe73",
   "metadata": {},
   "outputs": [],
   "source": [
    "sequence_b = []"
   ]
  },
  {
   "cell_type": "code",
   "execution_count": null,
   "id": "f628b8ac",
   "metadata": {},
   "outputs": [],
   "source": [
    "for i in range(m, n+1):\n",
    "    if i%3 == 0 or i%2 == 0:\n",
    "        sequence_b.append(i)"
   ]
  },
  {
   "cell_type": "code",
   "execution_count": null,
   "id": "2bd8b13a",
   "metadata": {},
   "outputs": [],
   "source": [
    "sequence_c = []"
   ]
  },
  {
   "cell_type": "code",
   "execution_count": null,
   "id": "a94e38a6",
   "metadata": {},
   "outputs": [],
   "source": [
    "for j in sequence_b:   \n",
    "    if j%6 != 0:\n",
    "        sequence_c.append(j) "
   ]
  },
  {
   "cell_type": "code",
   "execution_count": null,
   "id": "a4c58882",
   "metadata": {},
   "outputs": [],
   "source": [
    "print(sequence_c)"
   ]
  }
 ],
 "metadata": {
  "jupytext": {
   "cell_metadata_filter": "-all",
   "main_language": "python",
   "notebook_metadata_filter": "-all"
  }
 },
 "nbformat": 4,
 "nbformat_minor": 5
}
