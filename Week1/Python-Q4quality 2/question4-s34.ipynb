{
 "cells": [
  {
   "cell_type": "code",
   "execution_count": null,
   "id": "105e5db9",
   "metadata": {},
   "outputs": [],
   "source": [
    "# enter your code here\n",
    "m = int(input(\"Please input an integer: \"))\n",
    "n = int(input(\"Please input an integer: \"))"
   ]
  },
  {
   "cell_type": "code",
   "execution_count": null,
   "id": "db12022b",
   "metadata": {},
   "outputs": [],
   "source": [
    "list_4 = []\n",
    "j = m\n",
    "while (j >= m  and j <= n):\n",
    "    if ((j % 3 == 0 or j % 2 == 0) and j % 6 != 0):\n",
    "        list_4.append(j)\n",
    "    j = j + 1"
   ]
  },
  {
   "cell_type": "code",
   "execution_count": null,
   "id": "0ae1df2e",
   "metadata": {},
   "outputs": [],
   "source": [
    "print(list_4)"
   ]
  }
 ],
 "metadata": {
  "jupytext": {
   "cell_metadata_filter": "-all",
   "main_language": "python",
   "notebook_metadata_filter": "-all"
  }
 },
 "nbformat": 4,
 "nbformat_minor": 5
}
