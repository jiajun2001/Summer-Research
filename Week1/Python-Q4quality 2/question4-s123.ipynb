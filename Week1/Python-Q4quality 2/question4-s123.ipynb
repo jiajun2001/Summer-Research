{
 "cells": [
  {
   "cell_type": "code",
   "execution_count": null,
   "id": "c170c155",
   "metadata": {},
   "outputs": [],
   "source": [
    "# enter your code here\n",
    "m = int(input('Please input an integer: '))\n",
    "n = int(input('Please input an integer: '))"
   ]
  },
  {
   "cell_type": "code",
   "execution_count": null,
   "id": "7feba1f8",
   "metadata": {
    "lines_to_next_cell": 2
   },
   "outputs": [],
   "source": [
    "_list = []"
   ]
  },
  {
   "cell_type": "code",
   "execution_count": null,
   "id": "448ab5d2",
   "metadata": {},
   "outputs": [],
   "source": [
    "for i in range(m,n+1):\n",
    "    if i >= m and i <= n:\n",
    "        if i%3 == 0 or i%2 == 0:\n",
    "            if i %6 != 0: \n",
    "                _list.append(i)"
   ]
  },
  {
   "cell_type": "code",
   "execution_count": null,
   "id": "d1ca9ca9",
   "metadata": {},
   "outputs": [],
   "source": [
    "print(_list)"
   ]
  }
 ],
 "metadata": {
  "jupytext": {
   "cell_metadata_filter": "-all",
   "main_language": "python",
   "notebook_metadata_filter": "-all"
  }
 },
 "nbformat": 4,
 "nbformat_minor": 5
}
