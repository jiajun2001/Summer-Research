{
 "cells": [
  {
   "cell_type": "code",
   "execution_count": null,
   "id": "fd4f5788",
   "metadata": {},
   "outputs": [],
   "source": [
    "# enter your code here\n",
    "m = input('Please input an integer: ')\n",
    "n = input('Please input an integer: ')\n",
    "m = int(m)\n",
    "n = int(n)\n",
    "list = []"
   ]
  },
  {
   "cell_type": "code",
   "execution_count": null,
   "id": "a99e0344",
   "metadata": {},
   "outputs": [],
   "source": [
    "for i in range(m,n+1):\n",
    "    if i >= m and i < n and (i % 3 == 0 or i % 2 == 0) and i % 6 != 0:\n",
    "        list.append(i)\n",
    "        print(list)"
   ]
  }
 ],
 "metadata": {
  "jupytext": {
   "cell_metadata_filter": "-all",
   "main_language": "python",
   "notebook_metadata_filter": "-all"
  }
 },
 "nbformat": 4,
 "nbformat_minor": 5
}
