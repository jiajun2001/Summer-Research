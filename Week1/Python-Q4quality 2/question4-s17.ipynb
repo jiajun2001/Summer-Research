{
 "cells": [
  {
   "cell_type": "code",
   "execution_count": null,
   "id": "dbc862e5",
   "metadata": {},
   "outputs": [],
   "source": [
    "# enter your code here\n",
    "m = int(input('Please input a integer: '))\n",
    "n = int(input('Please input a integer: '))"
   ]
  },
  {
   "cell_type": "code",
   "execution_count": null,
   "id": "935f54ce",
   "metadata": {},
   "outputs": [],
   "source": [
    "l3=[]\n",
    "for i in range(m,n+1):\n",
    "    if i % 2 == 0 and i % 3 == 0:\n",
    "        continue\n",
    "    elif i % 2 == 0:\n",
    "        l3.append(i)\n",
    "    elif i % 3 ==0:\n",
    "        l3.append(i)\n",
    "print(l3)"
   ]
  }
 ],
 "metadata": {
  "jupytext": {
   "cell_metadata_filter": "-all",
   "main_language": "python",
   "notebook_metadata_filter": "-all"
  }
 },
 "nbformat": 4,
 "nbformat_minor": 5
}
