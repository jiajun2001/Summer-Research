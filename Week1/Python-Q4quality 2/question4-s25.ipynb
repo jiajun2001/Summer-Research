{
 "cells": [
  {
   "cell_type": "code",
   "execution_count": null,
   "id": "cf439244",
   "metadata": {},
   "outputs": [],
   "source": [
    "m = int(input(\"Please input an integer: \"))\n",
    "n = int(input(\"Please input an integer: \"))"
   ]
  },
  {
   "cell_type": "code",
   "execution_count": null,
   "id": "2a15974f",
   "metadata": {},
   "outputs": [],
   "source": [
    "list4 = []\n",
    "for x in range(m,n+1):\n",
    "    if(x%3 == 0 or x % 2 == 0): \n",
    "        if(x%6==0):\n",
    "            list4 = list4\n",
    "        else:\n",
    "            list4.append(x)"
   ]
  },
  {
   "cell_type": "code",
   "execution_count": null,
   "id": "564e0270",
   "metadata": {},
   "outputs": [],
   "source": [
    "print(list4)"
   ]
  }
 ],
 "metadata": {
  "jupytext": {
   "cell_metadata_filter": "-all",
   "main_language": "python",
   "notebook_metadata_filter": "-all"
  }
 },
 "nbformat": 4,
 "nbformat_minor": 5
}
