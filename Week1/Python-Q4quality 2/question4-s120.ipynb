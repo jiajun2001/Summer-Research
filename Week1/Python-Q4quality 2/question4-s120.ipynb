{
 "cells": [
  {
   "cell_type": "code",
   "execution_count": null,
   "id": "b551048d",
   "metadata": {},
   "outputs": [],
   "source": [
    "# enter your code here\n",
    "print('Please input an integer:')\n",
    "m = int(input())\n",
    "print('Please input an integer:')\n",
    "n = int(input())"
   ]
  },
  {
   "cell_type": "code",
   "execution_count": null,
   "id": "4b9c43a4",
   "metadata": {},
   "outputs": [],
   "source": [
    "# enter your code here\n",
    "L = []\n",
    "for i in range(m, n+1):\n",
    "    if i%3==0 or i%2==0:\n",
    "        if i%6!=0:\n",
    "            L.append(i)\n",
    "print(L)"
   ]
  }
 ],
 "metadata": {
  "jupytext": {
   "cell_metadata_filter": "-all",
   "main_language": "python",
   "notebook_metadata_filter": "-all"
  }
 },
 "nbformat": 4,
 "nbformat_minor": 5
}
