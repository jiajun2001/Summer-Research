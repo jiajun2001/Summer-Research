{
 "cells": [
  {
   "cell_type": "code",
   "execution_count": null,
   "id": "c3cd52f4",
   "metadata": {},
   "outputs": [],
   "source": [
    "m = int(input('Please input an interger: '))\n",
    " n = int(input('Please input an interger: '))"
   ]
  },
  {
   "cell_type": "code",
   "execution_count": null,
   "id": "817a6205",
   "metadata": {},
   "outputs": [],
   "source": [
    "li = []\n",
    "for e in range(m, n+1):\n",
    "    li.append(e)  \n",
    "li2=[]    \n",
    "for i in li:\n",
    "    if i%3==0 or i%2==0:\n",
    "        li2.append(i)\n",
    "    if i%6==0:\n",
    "        li2.remove(i)"
   ]
  },
  {
   "cell_type": "code",
   "execution_count": null,
   "id": "21ebd142",
   "metadata": {},
   "outputs": [],
   "source": [
    "print(li2)"
   ]
  }
 ],
 "metadata": {
  "jupytext": {
   "cell_metadata_filter": "-all",
   "main_language": "python",
   "notebook_metadata_filter": "-all"
  }
 },
 "nbformat": 4,
 "nbformat_minor": 5
}
