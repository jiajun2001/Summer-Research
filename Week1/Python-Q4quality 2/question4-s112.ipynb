{
 "cells": [
  {
   "cell_type": "code",
   "execution_count": null,
   "id": "81df44ea",
   "metadata": {},
   "outputs": [],
   "source": [
    "m = int(input(\"Please input an integer: \"))\n",
    "n = int(input(\"Please input an integer: \"))"
   ]
  },
  {
   "cell_type": "code",
   "execution_count": null,
   "id": "c7ee8251",
   "metadata": {},
   "outputs": [],
   "source": [
    "L4 = []\n",
    "for i in range(n-m+1):\n",
    "    if ((m+i)%3==0 or (m+i)%2==0) and not ((m+i)%6==0):\n",
    "        L4.append(m+i)\n",
    "print(L4)"
   ]
  }
 ],
 "metadata": {
  "jupytext": {
   "cell_metadata_filter": "-all",
   "main_language": "python",
   "notebook_metadata_filter": "-all"
  }
 },
 "nbformat": 4,
 "nbformat_minor": 5
}
