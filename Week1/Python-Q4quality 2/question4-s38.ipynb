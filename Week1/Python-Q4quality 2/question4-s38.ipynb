{
 "cells": [
  {
   "cell_type": "code",
   "execution_count": null,
   "id": "e452c5f7",
   "metadata": {},
   "outputs": [],
   "source": [
    "# enter your code here\n",
    "m = int(input(f'Please input an integer:'))\n",
    "n = int(input(f'Please input an integer:'))"
   ]
  },
  {
   "cell_type": "code",
   "execution_count": null,
   "id": "a12ebce0",
   "metadata": {},
   "outputs": [],
   "source": [
    "li_4=[]\n",
    "for i in range(m,n+1):#large than r equal to m, smaller or equal than n\n",
    "    if i%3==0 or i%2==0:#Divisible by 3 or divisible by 2\n",
    "        li_4.append(i)\n",
    "    if i%6==0:\n",
    "        li_4.remove(i)#Not divisible by 6\n",
    "print(li_4)"
   ]
  }
 ],
 "metadata": {
  "jupytext": {
   "cell_metadata_filter": "-all",
   "main_language": "python",
   "notebook_metadata_filter": "-all"
  }
 },
 "nbformat": 4,
 "nbformat_minor": 5
}
