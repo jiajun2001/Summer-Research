{
 "cells": [
  {
   "cell_type": "code",
   "execution_count": null,
   "id": "5d01b5d2",
   "metadata": {},
   "outputs": [],
   "source": [
    "# enter your code here\n",
    "m = input(\"Please input an integer:\")\n",
    "n = input(\"Please input an integer:\")"
   ]
  },
  {
   "cell_type": "code",
   "execution_count": null,
   "id": "7d1b2cdf",
   "metadata": {},
   "outputs": [],
   "source": [
    "li = []"
   ]
  },
  {
   "cell_type": "code",
   "execution_count": null,
   "id": "f9e51ae7",
   "metadata": {},
   "outputs": [],
   "source": [
    "for num in range(m, n+1):\n",
    "    if num%6 != 0 and (num%3 == 0 or num%2 ==0):\n",
    "        li.append(num)\n",
    "print(li)"
   ]
  }
 ],
 "metadata": {
  "jupytext": {
   "cell_metadata_filter": "-all",
   "main_language": "python",
   "notebook_metadata_filter": "-all"
  }
 },
 "nbformat": 4,
 "nbformat_minor": 5
}
