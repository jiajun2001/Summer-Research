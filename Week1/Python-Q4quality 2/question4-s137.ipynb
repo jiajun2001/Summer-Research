{
 "cells": [
  {
   "cell_type": "code",
   "execution_count": null,
   "id": "39257044",
   "metadata": {},
   "outputs": [],
   "source": [
    "# enter your code here\n",
    "m=int(input('Please input an integer:'))\n",
    "n=int(input('Please input an integer:'))"
   ]
  },
  {
   "cell_type": "code",
   "execution_count": null,
   "id": "2e9a404c",
   "metadata": {},
   "outputs": [],
   "source": [
    "list_q4=[]\n",
    "for i in list_q3_forloop:\n",
    "    if i%2==0 or i%3==0:\n",
    "        list_q4.append(i)\n",
    "for j in list_q4:\n",
    "    if j%6==0:\n",
    "        list_q4.remove(j)\n",
    "print(list_q4)"
   ]
  }
 ],
 "metadata": {
  "jupytext": {
   "cell_metadata_filter": "-all",
   "main_language": "python",
   "notebook_metadata_filter": "-all"
  }
 },
 "nbformat": 4,
 "nbformat_minor": 5
}
