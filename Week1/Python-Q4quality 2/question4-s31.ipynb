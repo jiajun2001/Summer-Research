{
 "cells": [
  {
   "cell_type": "code",
   "execution_count": null,
   "id": "06e2905a",
   "metadata": {},
   "outputs": [],
   "source": [
    "m = int(input(\"please input an integer: \"))\n",
    "n = int(input(\"please input an integer: \"))"
   ]
  },
  {
   "cell_type": "code",
   "execution_count": null,
   "id": "e72e8cfb",
   "metadata": {},
   "outputs": [],
   "source": [
    "l = []\n",
    "for i in range(m, n+1):\n",
    "    if i>=m:\n",
    "        if i<=n:\n",
    "            if i%3 == 0 or i%2 == 0:\n",
    "                if i%6 != 0:\n",
    "                    l.append(i)\n",
    "print(l)"
   ]
  }
 ],
 "metadata": {
  "jupytext": {
   "cell_metadata_filter": "-all",
   "main_language": "python",
   "notebook_metadata_filter": "-all"
  }
 },
 "nbformat": 4,
 "nbformat_minor": 5
}
