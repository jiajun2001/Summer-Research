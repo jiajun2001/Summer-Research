{
 "cells": [
  {
   "cell_type": "code",
   "execution_count": null,
   "id": "16e4889b",
   "metadata": {},
   "outputs": [],
   "source": [
    "m = int(input('Please input an integer: '))\n",
    "n = int(input('Please input an integer: '))"
   ]
  },
  {
   "cell_type": "code",
   "execution_count": null,
   "id": "272b05f3",
   "metadata": {},
   "outputs": [],
   "source": [
    "li = []\n",
    "li2 = []\n",
    "for i in range(m, n+1):\n",
    "        li.append(i)"
   ]
  },
  {
   "cell_type": "code",
   "execution_count": null,
   "id": "c89cfe89",
   "metadata": {},
   "outputs": [],
   "source": [
    "for i in li:\n",
    "    if i >= m and i <=n and (i % 3 == 0 or i % 2 == 0) and i % 6 != 0:\n",
    "        li2.append(i)"
   ]
  },
  {
   "cell_type": "code",
   "execution_count": null,
   "id": "2eeea224",
   "metadata": {},
   "outputs": [],
   "source": [
    "print(li2)"
   ]
  }
 ],
 "metadata": {
  "jupytext": {
   "cell_metadata_filter": "-all",
   "main_language": "python",
   "notebook_metadata_filter": "-all"
  }
 },
 "nbformat": 4,
 "nbformat_minor": 5
}
