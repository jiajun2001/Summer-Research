{
 "cells": [
  {
   "cell_type": "code",
   "execution_count": 1,
   "id": "9a2f1f20",
   "metadata": {},
   "outputs": [
    {
     "name": "stdout",
     "output_type": "stream",
     "text": [
      "assign a number into:1\n",
      "insert another number: 1\n"
     ]
    }
   ],
   "source": [
    "# enter your code here\n",
    "m = int(input('assign a number into:'))\n",
    "n = int(input('insert another number: '))"
   ]
  },
  {
   "cell_type": "code",
   "execution_count": 2,
   "id": "9815c14e",
   "metadata": {},
   "outputs": [],
   "source": [
    "my_list = []\n",
    "for i in range(m,n+1,1):\n",
    "    my_list.append(i) "
   ]
  },
  {
   "cell_type": "code",
   "execution_count": null,
   "id": "67d00635",
   "metadata": {},
   "outputs": [],
   "source": [
    "for i in my_list:\n",
    "    if i >= m and i <=n and(i%3 == 0 or i%2 ==0)and i%6 !=0 :\n",
    "        s.append(i)\n",
    "print(s)"
   ]
  }
 ],
 "metadata": {
  "jupytext": {
   "cell_metadata_filter": "-all",
   "main_language": "python",
   "notebook_metadata_filter": "-all"
  },
  "kernelspec": {
   "display_name": "Python 3",
   "language": "python",
   "name": "python3"
  },
  "language_info": {
   "codemirror_mode": {
    "name": "ipython",
    "version": 3
   },
   "file_extension": ".py",
   "mimetype": "text/x-python",
   "name": "python",
   "nbconvert_exporter": "python",
   "pygments_lexer": "ipython3",
   "version": "3.9.6"
  },
  "vscode": {
   "interpreter": {
    "hash": "31f2aee4e71d21fbe5cf8b01ff0e069b9275f58929596ceb00d14d90e3e16cd6"
   }
  }
 },
 "nbformat": 4,
 "nbformat_minor": 5
}
