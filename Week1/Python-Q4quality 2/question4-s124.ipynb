{
 "cells": [
  {
   "cell_type": "code",
   "execution_count": null,
   "id": "d504bfff",
   "metadata": {},
   "outputs": [],
   "source": [
    "# enter your code here\n",
    "m = input('Please input an integer: ')\n",
    "m = int(m)"
   ]
  },
  {
   "cell_type": "code",
   "execution_count": null,
   "id": "ef2fd28e",
   "metadata": {},
   "outputs": [],
   "source": [
    "n = input('Please input an integer: ')\n",
    "n = int(n)"
   ]
  },
  {
   "cell_type": "code",
   "execution_count": null,
   "id": "e03292ea",
   "metadata": {},
   "outputs": [],
   "source": [
    "var_list = []"
   ]
  },
  {
   "cell_type": "code",
   "execution_count": null,
   "id": "b533c2d0",
   "metadata": {},
   "outputs": [],
   "source": [
    "for i in range(m,n+1):\n",
    "    if i >= m:\n",
    "        if i <= n:\n",
    "            if(i % 6 != 0):\n",
    "                if(i % 3 == 0):\n",
    "                    var_list.append(i)\n",
    "                elif(i % 2 == 0):\n",
    "                    var_list.append(i)"
   ]
  },
  {
   "cell_type": "code",
   "execution_count": null,
   "id": "4d1547b0",
   "metadata": {},
   "outputs": [],
   "source": [
    "print(var_list)"
   ]
  }
 ],
 "metadata": {
  "jupytext": {
   "cell_metadata_filter": "-all",
   "main_language": "python",
   "notebook_metadata_filter": "-all"
  }
 },
 "nbformat": 4,
 "nbformat_minor": 5
}
