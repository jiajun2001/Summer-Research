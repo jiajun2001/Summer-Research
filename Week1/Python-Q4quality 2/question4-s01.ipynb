{
 "cells": [
  {
   "cell_type": "code",
   "execution_count": 1,
   "id": "dc74da80",
   "metadata": {},
   "outputs": [
    {
     "name": "stdout",
     "output_type": "stream",
     "text": [
      "Please input an integer: 1\n",
      "Please input an integer: 1\n"
     ]
    }
   ],
   "source": [
    "m = input(\"Please input an integer: \")\n",
    "n = input(\"Please input an integer: \")\n",
    "m = int(m)\n",
    "n = int(n)"
   ]
  },
  {
   "cell_type": "code",
   "execution_count": 2,
   "id": "4a560b3c",
   "metadata": {},
   "outputs": [],
   "source": [
    "# empty list\n",
    "list_specifics = []"
   ]
  },
  {
   "cell_type": "code",
   "execution_count": 3,
   "id": "00be1b24",
   "metadata": {},
   "outputs": [],
   "source": [
    "# using m & n from above\n",
    "for i in range(m, n+1):  \n",
    "    if i % 6 == 0:\n",
    "        i = i\n",
    "    elif i % 3 == 0:\n",
    "        list_specifics.append(i)\n",
    "    elif i % 2 == 0:\n",
    "        list_specifics.append(i)\n",
    "    else:\n",
    "        i = i"
   ]
  },
  {
   "cell_type": "code",
   "execution_count": 4,
   "id": "fce19f4b",
   "metadata": {},
   "outputs": [
    {
     "name": "stdout",
     "output_type": "stream",
     "text": [
      "[]\n"
     ]
    }
   ],
   "source": [
    "print(list_specifics)"
   ]
  }
 ],
 "metadata": {
  "jupytext": {
   "cell_metadata_filter": "-all",
   "main_language": "python",
   "notebook_metadata_filter": "-all"
  },
  "kernelspec": {
   "display_name": "Python 3",
   "language": "python",
   "name": "python3"
  },
  "language_info": {
   "codemirror_mode": {
    "name": "ipython",
    "version": 3
   },
   "file_extension": ".py",
   "mimetype": "text/x-python",
   "name": "python",
   "nbconvert_exporter": "python",
   "pygments_lexer": "ipython3",
   "version": "3.8.8"
  }
 },
 "nbformat": 4,
 "nbformat_minor": 5
}
