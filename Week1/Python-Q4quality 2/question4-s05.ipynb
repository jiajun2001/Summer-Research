{
 "cells": [
  {
   "cell_type": "code",
   "execution_count": null,
   "id": "0bf7f108",
   "metadata": {},
   "outputs": [],
   "source": [
    "# enter your code here\n",
    "m = int(input(\"Please input an interger\"))\n",
    "n = int(input(\"Please input an interger\"))\n",
    "lis = []\n",
    "for i in range(m,n+1):\n",
    "    if i%3 == 0 or i%2 == 0:\n",
    "        if i%6!=0:\n",
    "            lis.append(i)\n",
    "print(lis)"
   ]
  }
 ],
 "metadata": {
  "jupytext": {
   "cell_metadata_filter": "-all",
   "main_language": "python",
   "notebook_metadata_filter": "-all"
  }
 },
 "nbformat": 4,
 "nbformat_minor": 5
}
