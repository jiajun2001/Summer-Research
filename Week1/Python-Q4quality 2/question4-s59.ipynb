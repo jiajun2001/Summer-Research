{
 "cells": [
  {
   "cell_type": "code",
   "execution_count": null,
   "id": "5b25b819",
   "metadata": {},
   "outputs": [],
   "source": [
    "# enter your code here\n",
    "m = int(input('Please input an integer for m: '))\n",
    "n = int(input('Please input an integer for n: '))"
   ]
  },
  {
   "cell_type": "code",
   "execution_count": null,
   "id": "29613710",
   "metadata": {},
   "outputs": [],
   "source": [
    "#create empty list\n",
    "li_c = []\n",
    "#use for loop to every number in the range of m to n\n",
    "for i in range(m,n+1):\n",
    "    #check if i meets the criteria\n",
    "    if (i%3==0 or i%2==0):\n",
    "        if (i%6!=0):\n",
    "            li_c.append(i)#if criteria is met add to the empty list\n",
    "print (li_c)"
   ]
  }
 ],
 "metadata": {
  "jupytext": {
   "cell_metadata_filter": "-all",
   "main_language": "python",
   "notebook_metadata_filter": "-all"
  }
 },
 "nbformat": 4,
 "nbformat_minor": 5
}
