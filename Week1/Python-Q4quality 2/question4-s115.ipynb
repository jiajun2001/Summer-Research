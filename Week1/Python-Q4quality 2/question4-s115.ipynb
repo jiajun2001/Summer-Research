{
 "cells": [
  {
   "cell_type": "markdown",
   "id": "4663bc4a",
   "metadata": {},
   "source": [
    "enter your code here"
   ]
  },
  {
   "cell_type": "code",
   "execution_count": null,
   "id": "110af800",
   "metadata": {},
   "outputs": [],
   "source": [
    "m = int(input(\"Please input the first integer\") )\n",
    "n = int(input(\"Please input the second integers\") )"
   ]
  },
  {
   "cell_type": "code",
   "execution_count": null,
   "id": "a89f9584",
   "metadata": {},
   "outputs": [],
   "source": [
    "#n number list\n",
    "n_list = []\n",
    "for number in range(n+1):\n",
    "    n_list.append(number)"
   ]
  },
  {
   "cell_type": "code",
   "execution_count": null,
   "id": "ac6117a6",
   "metadata": {},
   "outputs": [],
   "source": [
    "#Larger than or equal to m \n",
    "critera_list = []\n",
    "# print(n_list)\n",
    "for b in n_list:\n",
    "    if b<m:\n",
    "        continue\n",
    "    elif b%3 == 0 or b%2 == 0:\n",
    "        if b%6 != 0:\n",
    "            critera_list.append(b)"
   ]
  },
  {
   "cell_type": "code",
   "execution_count": null,
   "id": "e70f9ca4",
   "metadata": {},
   "outputs": [],
   "source": [
    "print(critera_list)"
   ]
  }
 ],
 "metadata": {
  "jupytext": {
   "cell_metadata_filter": "-all",
   "main_language": "python",
   "notebook_metadata_filter": "-all"
  }
 },
 "nbformat": 4,
 "nbformat_minor": 5
}
