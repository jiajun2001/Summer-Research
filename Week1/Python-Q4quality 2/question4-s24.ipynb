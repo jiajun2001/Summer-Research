{
 "cells": [
  {
   "cell_type": "code",
   "execution_count": null,
   "id": "be52720e",
   "metadata": {
    "lines_to_next_cell": 2
   },
   "outputs": [],
   "source": [
    "# enter your code here\n",
    "m = int(input(\"Please input an integer: \"))\n",
    "n = int(input(\"Please input an integer: \"))\n",
    "my_list=[]"
   ]
  },
  {
   "cell_type": "code",
   "execution_count": null,
   "id": "c1cee0f6",
   "metadata": {},
   "outputs": [],
   "source": [
    "for i in range(m , n + 1):\n",
    "    if(i >= m and i <= n and (i % 3 == 0 or i % 2 == 0) and i % 6 != 0):\n",
    "        my_list.append(i)\n",
    "print(my_list)"
   ]
  }
 ],
 "metadata": {
  "jupytext": {
   "cell_metadata_filter": "-all",
   "main_language": "python",
   "notebook_metadata_filter": "-all"
  }
 },
 "nbformat": 4,
 "nbformat_minor": 5
}
