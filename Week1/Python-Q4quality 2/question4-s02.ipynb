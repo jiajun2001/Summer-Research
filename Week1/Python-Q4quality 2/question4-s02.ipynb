{
 "cells": [
  {
   "cell_type": "code",
   "execution_count": null,
   "id": "ba3ec878",
   "metadata": {},
   "outputs": [],
   "source": [
    "# enter your code here\n",
    "m = input('Please input an integer: ')\n",
    "m = int(m)"
   ]
  },
  {
   "cell_type": "code",
   "execution_count": null,
   "id": "7428beb5",
   "metadata": {},
   "outputs": [],
   "source": [
    "n = input('Please input an integer: ')\n",
    "n = int(n)"
   ]
  },
  {
   "cell_type": "code",
   "execution_count": null,
   "id": "467cd0ce",
   "metadata": {},
   "outputs": [],
   "source": [
    "list_n3 = []\n",
    "for x in range(m,n+1):\n",
    "    if x % 6 != 0:\n",
    "        if x % 3 == 0:\n",
    "            list_n3.append(x)\n",
    "        elif x % 2 == 0:\n",
    "            list_n3.append(x)"
   ]
  },
  {
   "cell_type": "code",
   "execution_count": null,
   "id": "073d3e09",
   "metadata": {},
   "outputs": [],
   "source": [
    "print(list_n3)"
   ]
  }
 ],
 "metadata": {
  "jupytext": {
   "cell_metadata_filter": "-all",
   "main_language": "python",
   "notebook_metadata_filter": "-all"
  }
 },
 "nbformat": 4,
 "nbformat_minor": 5
}
