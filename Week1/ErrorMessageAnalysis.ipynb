{
 "cells": [
  {
   "cell_type": "code",
   "execution_count": 1,
   "id": "9bbd626b",
   "metadata": {},
   "outputs": [],
   "source": [
    "# Analysis of Jupyter Notebook Error Message"
   ]
  },
  {
   "cell_type": "code",
   "execution_count": 2,
   "id": "015fac16",
   "metadata": {},
   "outputs": [],
   "source": [
    "# Read the file and get each line of the file\n",
    "def processFile(path):\n",
    "    output = open(path, \"a\")\n",
    "    output.write(\"**********\")\n",
    "    output.close()\n",
    "    # Store Each line of the Jupyter Notebook Outcome\n",
    "    output = open(path)\n",
    "    lines = []\n",
    "    while True:\n",
    "        line = output.readline()\n",
    "        lines.append(line)\n",
    "        if (\"\" == line):\n",
    "            print(\"File Finished!\")\n",
    "            break\n",
    "    return lines"
   ]
  },
  {
   "cell_type": "code",
   "execution_count": 3,
   "id": "02d7c9ea",
   "metadata": {},
   "outputs": [],
   "source": [
    "# Process to get data for feeding into the excel\n",
    "def getInfoForExcel(lines):\n",
    "    # Categorize each student's warning message \n",
    "    students = []\n",
    "    studentInfo = []\n",
    "    for line in lines:\n",
    "        if \"**********\" in line:\n",
    "            students.append(studentInfo)\n",
    "            studentInfo = []\n",
    "        studentInfo.append(line)\n",
    "    students.pop(0)\n",
    "    \n",
    "    # Process each student\n",
    "    # processedStudent = ['Student_ID', 'error code 1', 'error code 2', ...]\n",
    "    # processedStudents = [processedStudent 1, processedStudent 2, ...]\n",
    "    processedStudents = []\n",
    "    for student in students:\n",
    "        processedStudent = []\n",
    "        # Get the Student ID first\n",
    "        indexOfStudentID = student[0].find(\"**********\") + 21\n",
    "        endIndexOfStudentID = student[0].find(\".\")\n",
    "        processedStudent.append(student[0][indexOfStudentID : endIndexOfStudentID].strip('\\n'))\n",
    "        processedStudent.insert(0, int(student[0][indexOfStudentID + 1 : endIndexOfStudentID].strip('\\n')))\n",
    "\n",
    "        # Get the error code of this student\n",
    "        messages = student[1 : ]\n",
    "        for message in messages:\n",
    "            if \"Error: \" in message:\n",
    "                processedStudent.append(message.strip('\\n'))\n",
    "        processedStudents.append(processedStudent)\n",
    "    # Sort elements based on students' ID\n",
    "    processedStudents.sort(key = lambda x:x[0])\n",
    "    for e in processedStudents:\n",
    "        e.pop(0)\n",
    "    return processedStudents"
   ]
  },
  {
   "cell_type": "code",
   "execution_count": 4,
   "id": "435280c4",
   "metadata": {},
   "outputs": [
    {
     "name": "stdout",
     "output_type": "stream",
     "text": [
      "File Finished!\n"
     ]
    }
   ],
   "source": [
    "lines = processFile(\"/Users/apple/Desktop/SummerResearch/Week1/Python-Q4quality 2/outputipynb.txt\")"
   ]
  },
  {
   "cell_type": "code",
   "execution_count": 5,
   "id": "3ef707b3",
   "metadata": {},
   "outputs": [],
   "source": [
    "processedStudentsJupyter = getInfoForExcel(lines)"
   ]
  },
  {
   "cell_type": "code",
   "execution_count": 6,
   "id": "060ffcc9",
   "metadata": {},
   "outputs": [
    {
     "data": {
      "text/plain": [
       "[['s01'],\n",
       " ['s02'],\n",
       " ['s04'],\n",
       " ['s05'],\n",
       " ['s06'],\n",
       " ['s16'],\n",
       " ['s17'],\n",
       " ['s19',\n",
       "  'TypeError: can only concatenate str (not \"int\") to str',\n",
       "  'TypeError: can only concatenate str (not \"int\") to str'],\n",
       " ['s22'],\n",
       " ['s23'],\n",
       " ['s24'],\n",
       " ['s25'],\n",
       " ['s26'],\n",
       " ['s27'],\n",
       " ['s31'],\n",
       " ['s32'],\n",
       " ['s34'],\n",
       " ['s37'],\n",
       " ['s38'],\n",
       " ['s39'],\n",
       " ['s46'],\n",
       " ['s48'],\n",
       " ['s49'],\n",
       " ['s52'],\n",
       " ['s53',\n",
       "  'IndentationError: unexpected indent',\n",
       "  'IndentationError: unexpected indent'],\n",
       " ['s54'],\n",
       " ['s58'],\n",
       " ['s59'],\n",
       " ['s100',\n",
       "  \"NameError: name 's' is not defined\",\n",
       "  \"NameError: name 's' is not defined\"],\n",
       " ['s105'],\n",
       " ['s112'],\n",
       " ['s113'],\n",
       " ['s114'],\n",
       " ['s115'],\n",
       " ['s116'],\n",
       " ['s118'],\n",
       " ['s120'],\n",
       " ['s121'],\n",
       " ['s123'],\n",
       " ['s124'],\n",
       " ['s126',\n",
       "  \"NameError: name 'm' is not defined\",\n",
       "  \"NameError: name 'm' is not defined\"],\n",
       " ['s127'],\n",
       " ['s129'],\n",
       " ['s137',\n",
       "  \"NameError: name 'list_q3_forloop' is not defined\",\n",
       "  \"NameError: name 'list_q3_forloop' is not defined\"]]"
      ]
     },
     "execution_count": 6,
     "metadata": {},
     "output_type": "execute_result"
    }
   ],
   "source": [
    "processedStudentsJupyter"
   ]
  },
  {
   "cell_type": "code",
   "execution_count": 7,
   "id": "d44f8d25",
   "metadata": {},
   "outputs": [],
   "source": [
    "# Analysis of Python3 Error Message"
   ]
  },
  {
   "cell_type": "code",
   "execution_count": 8,
   "id": "0470021f",
   "metadata": {},
   "outputs": [
    {
     "name": "stdout",
     "output_type": "stream",
     "text": [
      "File Finished!\n"
     ]
    }
   ],
   "source": [
    "lines = processFile(\"/Users/apple/Desktop/SummerResearch/Week1/Python-Q4quality 2/outputPy.txt\")"
   ]
  },
  {
   "cell_type": "code",
   "execution_count": 9,
   "id": "0799aa5b",
   "metadata": {},
   "outputs": [],
   "source": [
    "processedStudentsPython = getInfoForExcel(lines)"
   ]
  },
  {
   "cell_type": "code",
   "execution_count": 10,
   "id": "424b4348",
   "metadata": {},
   "outputs": [
    {
     "data": {
      "text/plain": [
       "[['s01'],\n",
       " ['s02'],\n",
       " ['s04'],\n",
       " ['s05'],\n",
       " ['s06'],\n",
       " ['s16'],\n",
       " ['s17'],\n",
       " ['s19', 'TypeError: can only concatenate str (not \"int\") to str'],\n",
       " ['s22'],\n",
       " ['s23'],\n",
       " ['s24'],\n",
       " ['s25'],\n",
       " ['s26'],\n",
       " ['s27'],\n",
       " ['s31'],\n",
       " ['s32'],\n",
       " ['s34'],\n",
       " ['s37'],\n",
       " ['s38'],\n",
       " ['s39'],\n",
       " ['s46'],\n",
       " ['s48'],\n",
       " ['s49'],\n",
       " ['s52'],\n",
       " ['s53', 'IndentationError: unexpected indent'],\n",
       " ['s54'],\n",
       " ['s58'],\n",
       " ['s59'],\n",
       " ['s100', \"NameError: name 's' is not defined\"],\n",
       " ['s105'],\n",
       " ['s112'],\n",
       " ['s113'],\n",
       " ['s114'],\n",
       " ['s115'],\n",
       " ['s116'],\n",
       " ['s118'],\n",
       " ['s120'],\n",
       " ['s121'],\n",
       " ['s123'],\n",
       " ['s124'],\n",
       " ['s126', \"NameError: name 'm' is not defined\"],\n",
       " ['s127'],\n",
       " ['s129'],\n",
       " ['s137', \"NameError: name 'list_q3_forloop' is not defined\"]]"
      ]
     },
     "execution_count": 10,
     "metadata": {},
     "output_type": "execute_result"
    }
   ],
   "source": [
    "processedStudentsPython"
   ]
  },
  {
   "cell_type": "code",
   "execution_count": 11,
   "id": "98176dff",
   "metadata": {},
   "outputs": [],
   "source": [
    "# Fill in data to the spreadsheet\n",
    "\n",
    "# import package\n",
    "import openpyxl\n",
    "from openpyxl import load_workbook\n",
    "from openpyxl import Workbook\n",
    "from openpyxl.styles import Alignment\n",
    "from openpyxl.styles import PatternFill\n",
    "from openpyxl.styles import Font\n",
    "\n",
    "# Load workbook\n",
    "workbook = openpyxl.load_workbook(\"/Users/apple/Desktop/SummerResearch/Week1/Week1.xlsx\")\n",
    "\n",
    "# Sheets Names\n",
    "sName = \"Comparision\"\n",
    "\n",
    "# Create Sheet\n",
    "workbook.create_sheet(sName)\n",
    "\n",
    "# Choose worksheet\n",
    "sheet = workbook[sName]"
   ]
  },
  {
   "cell_type": "code",
   "execution_count": 12,
   "id": "568c10a8",
   "metadata": {},
   "outputs": [],
   "source": [
    "# Create student ID\n",
    "sheet[\"A1\"] = \"Student ID\"\n",
    "index = 0\n",
    "for row in sheet.iter_rows(min_row = 2, min_col = 1, max_row = len(processedStudentsJupyter) + 1, max_col = 1):\n",
    "    for cell in row:\n",
    "        cell.value = processedStudentsJupyter[index][0]\n",
    "        cell.alignment = Alignment(horizontal = 'center')\n",
    "        cell.font = Font(bold = True)\n",
    "        index += 1"
   ]
  },
  {
   "cell_type": "code",
   "execution_count": 13,
   "id": "af706b09",
   "metadata": {},
   "outputs": [],
   "source": [
    "# Fill in the information of each student (Jupyter Notebook)\n",
    "sheet[\"B1\"] = \"Jupyter Notebook Error Message\"\n",
    "sheet[\"B1\"].alignment = Alignment(horizontal = 'center')\n",
    "sheet[\"B1\"].fill = PatternFill(start_color = \"00FFFF00\", end_color = \"00FFFF00\", fill_type = \"solid\")\n",
    "sheet.column_dimensions['B'].width = 50\n",
    "index = 0\n",
    "for row in sheet.iter_rows(min_row = 2, min_col = 2, max_row = len(processedStudentsJupyter) + 1, max_col = 2):\n",
    "    for cell in row:\n",
    "        if len(processedStudentsJupyter[index]) > 1:\n",
    "            cell.value = processedStudentsJupyter[index][1]\n",
    "            cell.alignment = Alignment(horizontal = 'center')\n",
    "            cell.font = Font(bold = True)\n",
    "        index += 1"
   ]
  },
  {
   "cell_type": "code",
   "execution_count": 14,
   "id": "0b7c3ff7",
   "metadata": {},
   "outputs": [],
   "source": [
    "# Fill in the information of each student (Python3)\n",
    "sheet[\"C1\"] = \"Python3 Error Message\"\n",
    "sheet[\"C1\"].alignment = Alignment(horizontal = 'center')\n",
    "sheet[\"C1\"].fill = PatternFill(start_color = \"00FFFF00\", end_color = \"00FFFF00\", fill_type = \"solid\")\n",
    "sheet.column_dimensions['C'].width = 50\n",
    "index = 0\n",
    "for row in sheet.iter_rows(min_row = 2, min_col = 3, max_row = len(processedStudentsPython) + 1, max_col = 3):\n",
    "    for cell in row:\n",
    "        if len(processedStudentsPython[index]) > 1:\n",
    "            cell.value = processedStudentsPython[index][1]\n",
    "            cell.alignment = Alignment(horizontal = 'center')\n",
    "            cell.font = Font(bold = True)\n",
    "        index += 1"
   ]
  },
  {
   "cell_type": "code",
   "execution_count": 15,
   "id": "de8b1386",
   "metadata": {},
   "outputs": [],
   "source": [
    "workbook.save(filename=\"Week1.xlsx\")"
   ]
  }
 ],
 "metadata": {
  "kernelspec": {
   "display_name": "Python 3",
   "language": "python",
   "name": "python3"
  },
  "language_info": {
   "codemirror_mode": {
    "name": "ipython",
    "version": 3
   },
   "file_extension": ".py",
   "mimetype": "text/x-python",
   "name": "python",
   "nbconvert_exporter": "python",
   "pygments_lexer": "ipython3",
   "version": "3.8.8"
  }
 },
 "nbformat": 4,
 "nbformat_minor": 5
}
