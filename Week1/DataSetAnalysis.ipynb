{
 "cells": [
  {
   "cell_type": "code",
   "execution_count": 1,
   "id": "2c6caf2b",
   "metadata": {},
   "outputs": [],
   "source": [
    "# This is the script for analyzing the output of Pylint for a batch of files. \n",
    "# This program generates an Excel file that summarise the frequency of Pylint warning codes for each student. \n",
    "# To use this program, we need to use a terminal to generate Pylint warning messages for all students and save the output in a .txt file.\n",
    "# The command for generating Pylint warning messages for a batch of files is:\n",
    "# Pylint <Path for Data Set>/*.py > <Path for Pylint Output>/pylintOutput.txt\n",
    "# Eg: Pylint /Users/apple/Desktop/SummerResearch/Week1/Python-Q4quality\\ 2/*.py > /Users/apple/Desktop/SummerResearch/Week1/pylintOutput.txt"
   ]
  },
  {
   "cell_type": "code",
   "execution_count": 2,
   "id": "c58ae50d",
   "metadata": {},
   "outputs": [],
   "source": [
    "# Read the file\n",
    "pylintOutput = open(\"/Users/apple/Desktop/SummerResearch/Week1/pylintOutput.txt\", \"a\")"
   ]
  },
  {
   "cell_type": "code",
   "execution_count": 3,
   "id": "90e278a0",
   "metadata": {},
   "outputs": [],
   "source": [
    "# Data Preprocess Stage\n",
    "pylintOutput.write(\"************\")\n",
    "pylintOutput.close()"
   ]
  },
  {
   "cell_type": "code",
   "execution_count": 4,
   "id": "a01b37a4",
   "metadata": {},
   "outputs": [
    {
     "name": "stdout",
     "output_type": "stream",
     "text": [
      "File Finished!\n"
     ]
    }
   ],
   "source": [
    "# Store Each line of the Pylint Outcome\n",
    "pylintOutput = open(\"/Users/apple/Desktop/SummerResearch/Week1/pylintOutput.txt\")\n",
    "lines = []\n",
    "while True:\n",
    "    line = pylintOutput.readline()\n",
    "    lines.append(line)\n",
    "    if (\"\" == line):\n",
    "        print(\"File Finished!\")\n",
    "        break"
   ]
  },
  {
   "cell_type": "code",
   "execution_count": 5,
   "id": "cb517784",
   "metadata": {},
   "outputs": [
    {
     "data": {
      "text/plain": [
       "[]"
      ]
     },
     "execution_count": 5,
     "metadata": {},
     "output_type": "execute_result"
    }
   ],
   "source": [
    "# Categorize each student's warning message \n",
    "students = []\n",
    "student = []\n",
    "for line in lines:\n",
    "    if line[0:12] == \"************\":\n",
    "        students.append(student)\n",
    "        student = []\n",
    "    student.append(line)\n",
    "students.pop(0)"
   ]
  },
  {
   "cell_type": "code",
   "execution_count": 6,
   "id": "00922e86",
   "metadata": {
    "scrolled": true
   },
   "outputs": [
    {
     "data": {
      "text/plain": [
       "[['s01', 'C0303', 'C0303', 'C0103', 'C0114', 'W0127', 'W0127'],\n",
       " ['s02', 'C0303', 'C0103', 'C0114'],\n",
       " ['s04', 'W0622', 'C0103', 'C0114', 'R1716'],\n",
       " ['s05', 'C0103', 'C0114'],\n",
       " ['s06', 'W0622', 'C0103', 'C0114'],\n",
       " ['s16', 'C0103', 'C0114'],\n",
       " ['s17', 'C0103', 'C0114', 'R1724'],\n",
       " ['s19', 'C0103', 'C0114'],\n",
       " ['s22', 'C0303', 'C0103', 'C0114', 'W1309', 'W1309', 'R1724'],\n",
       " ['s23', 'C0303', 'C0103', 'C0114'],\n",
       " ['s24', 'C0303', 'C0103', 'C0114', 'R1716'],\n",
       " ['s25', 'C0303', 'C0325', 'C0303', 'C0103', 'C0114', 'W0127'],\n",
       " ['s26', 'C0103', 'C0114', 'R1716'],\n",
       " ['s27', 'C0303', 'C0303', 'C0103', 'C0114'],\n",
       " ['s31', 'C0103', 'C0114'],\n",
       " ['s32', 'C0103', 'C0114'],\n",
       " ['s34', 'C0303', 'C0103', 'C0114', 'R1716'],\n",
       " ['s37', 'C0303', 'C0103', 'C0114'],\n",
       " ['s38', 'C0103', 'C0114', 'W1309', 'W1309'],\n",
       " ['s39', 'C0303', 'C0303', 'C0103', 'C0114'],\n",
       " ['s46', 'C0303', 'C0305', 'C0103', 'C0114'],\n",
       " ['s48', 'C0103', 'C0114'],\n",
       " ['s49', 'C0103', 'C0114', 'C0103'],\n",
       " ['s52', 'C0103', 'C0114', 'R1716'],\n",
       " ['s53', 'E0001'],\n",
       " ['s54', 'C0103', 'C0114'],\n",
       " ['s58', 'C0103', 'C0114', 'W1309', 'W1309'],\n",
       " ['s59', 'C0325', 'C0103', 'C0114', 'R0801'],\n",
       " ['s100', 'C0303', 'C0103', 'C0114', 'R1716', 'E0602', 'E0602'],\n",
       " ['s105', 'C0303', 'C0303', 'C0103', 'C0114'],\n",
       " ['s112', 'C0325', 'C0103', 'C0114'],\n",
       " ['s113', 'C0103', 'C0114'],\n",
       " ['s114', 'C0103', 'C0114', 'W1309', 'W1309'],\n",
       " ['s115', 'C0303', 'C0303', 'C0103', 'C0114', 'R1724'],\n",
       " ['s116', 'C0103', 'C0114'],\n",
       " ['s118', 'C0301', 'C0303', 'C0103', 'C0114', 'R1716'],\n",
       " ['s120', 'C0103', 'C0114'],\n",
       " ['s121', 'C0103', 'C0114', 'R1716'],\n",
       " ['s123', 'C0303', 'C0103', 'C0114', 'R1716'],\n",
       " ['s124', 'C0325', 'C0325', 'C0325', 'C0103', 'C0114'],\n",
       " ['s126', 'C0103', 'C0114', 'E0602', 'E0602'],\n",
       " ['s127', 'C0301', 'C0103', 'C0114'],\n",
       " ['s129', 'W0311', 'C0303', 'C0103', 'C0114', 'R1716'],\n",
       " ['s137', 'C0103', 'C0114', 'E0602']]"
      ]
     },
     "execution_count": 6,
     "metadata": {},
     "output_type": "execute_result"
    }
   ],
   "source": [
    "# Process each student\n",
    "# single_outcome = ['Student_ID', 'error code 1', 'error code 2', ...]\n",
    "# outcome = [single_outcome1, single_outcome2, ...]\n",
    "\n",
    "codeReference = set()\n",
    "outcome = []\n",
    "for student in students:\n",
    "    single_outcome = []\n",
    "    # Get the Student ID first\n",
    "    indexOfStudentID = student[0].find(\"Module\") + 17\n",
    "    single_outcome.append(student[0][indexOfStudentID : ].strip('\\n'))\n",
    "    single_outcome.insert(0, int(student[0][indexOfStudentID + 1 : ].strip('\\n')))\n",
    "    \n",
    "    # Get the error code of this student\n",
    "    messages = student[1 : ]\n",
    "    for message in messages:\n",
    "        tokens = message.split() \n",
    "        # Pick the warning code\n",
    "        for token in tokens:\n",
    "            if (len(token) == 6) and (token[0].isalpha()) and (token[1 : 4].isdigit()) and token[-1] == ':':\n",
    "                single_outcome.append(token[0 : 5])\n",
    "                codeReference.add(message[message.find(token[0 : 5]):].strip('\\n'))\n",
    "    outcome.append(single_outcome)\n",
    "\n",
    "# Sort elements based on students' ID\n",
    "outcome.sort(key = lambda x:x[0])\n",
    "for e in outcome:\n",
    "    e.pop(0)\n",
    "outcome"
   ]
  },
  {
   "cell_type": "code",
   "execution_count": 7,
   "id": "1a4897cb",
   "metadata": {},
   "outputs": [
    {
     "name": "stdout",
     "output_type": "stream",
     "text": [
      "['C0103', 'C0114', 'C0301', 'C0303', 'C0305', 'C0325', 'E0001', 'E0602', 'R0801', 'R1716', 'R1724', 'W0127', 'W0311', 'W0622', 'W1309']\n",
      "15\n"
     ]
    }
   ],
   "source": [
    "# Find and sort all unique warning code alphabetically \n",
    "allErrorCodeSet = set()\n",
    "# studentInfo = ['Student_ID', 'error code 1', 'error code 2', ....]\n",
    "for studentInfo in outcome:\n",
    "    for i in range(1, len(studentInfo)):\n",
    "        allErrorCodeSet.add(studentInfo[i])\n",
    "        \n",
    "allErrorCodes = list(allErrorCodeSet)\n",
    "allErrorCodes.sort()\n",
    "print(allErrorCodes)\n",
    "print(len(allErrorCodes))"
   ]
  },
  {
   "cell_type": "code",
   "execution_count": 8,
   "id": "5e8202b3",
   "metadata": {},
   "outputs": [
    {
     "name": "stdout",
     "output_type": "stream",
     "text": [
      "[['s01', {'C0303': 2, 'C0103': 1, 'C0114': 1, 'W0127': 2}], ['s02', {'C0303': 1, 'C0103': 1, 'C0114': 1}], ['s04', {'W0622': 1, 'C0103': 1, 'C0114': 1, 'R1716': 1}], ['s05', {'C0103': 1, 'C0114': 1}], ['s06', {'W0622': 1, 'C0103': 1, 'C0114': 1}], ['s16', {'C0103': 1, 'C0114': 1}], ['s17', {'C0103': 1, 'C0114': 1, 'R1724': 1}], ['s19', {'C0103': 1, 'C0114': 1}], ['s22', {'C0303': 1, 'C0103': 1, 'C0114': 1, 'W1309': 2, 'R1724': 1}], ['s23', {'C0303': 1, 'C0103': 1, 'C0114': 1}], ['s24', {'C0303': 1, 'C0103': 1, 'C0114': 1, 'R1716': 1}], ['s25', {'C0303': 2, 'C0325': 1, 'C0103': 1, 'C0114': 1, 'W0127': 1}], ['s26', {'C0103': 1, 'C0114': 1, 'R1716': 1}], ['s27', {'C0303': 2, 'C0103': 1, 'C0114': 1}], ['s31', {'C0103': 1, 'C0114': 1}], ['s32', {'C0103': 1, 'C0114': 1}], ['s34', {'C0303': 1, 'C0103': 1, 'C0114': 1, 'R1716': 1}], ['s37', {'C0303': 1, 'C0103': 1, 'C0114': 1}], ['s38', {'C0103': 1, 'C0114': 1, 'W1309': 2}], ['s39', {'C0303': 2, 'C0103': 1, 'C0114': 1}], ['s46', {'C0303': 1, 'C0305': 1, 'C0103': 1, 'C0114': 1}], ['s48', {'C0103': 1, 'C0114': 1}], ['s49', {'C0103': 2, 'C0114': 1}], ['s52', {'C0103': 1, 'C0114': 1, 'R1716': 1}], ['s53', {'E0001': 1}], ['s54', {'C0103': 1, 'C0114': 1}], ['s58', {'C0103': 1, 'C0114': 1, 'W1309': 2}], ['s59', {'C0325': 1, 'C0103': 1, 'C0114': 1, 'R0801': 1}], ['s100', {'C0303': 1, 'C0103': 1, 'C0114': 1, 'R1716': 1, 'E0602': 2}], ['s105', {'C0303': 2, 'C0103': 1, 'C0114': 1}], ['s112', {'C0325': 1, 'C0103': 1, 'C0114': 1}], ['s113', {'C0103': 1, 'C0114': 1}], ['s114', {'C0103': 1, 'C0114': 1, 'W1309': 2}], ['s115', {'C0303': 2, 'C0103': 1, 'C0114': 1, 'R1724': 1}], ['s116', {'C0103': 1, 'C0114': 1}], ['s118', {'C0301': 1, 'C0303': 1, 'C0103': 1, 'C0114': 1, 'R1716': 1}], ['s120', {'C0103': 1, 'C0114': 1}], ['s121', {'C0103': 1, 'C0114': 1, 'R1716': 1}], ['s123', {'C0303': 1, 'C0103': 1, 'C0114': 1, 'R1716': 1}], ['s124', {'C0325': 3, 'C0103': 1, 'C0114': 1}], ['s126', {'C0103': 1, 'C0114': 1, 'E0602': 2}], ['s127', {'C0301': 1, 'C0103': 1, 'C0114': 1}], ['s129', {'W0311': 1, 'C0303': 1, 'C0103': 1, 'C0114': 1, 'R1716': 1}], ['s137', {'C0103': 1, 'C0114': 1, 'E0602': 1}]]\n",
      "44\n"
     ]
    }
   ],
   "source": [
    "# Count the number of each warning code for each student\n",
    "# processedStudent = [Student_ID, {\"c0001\": 2, \"w0001\": 3, ...}]\n",
    "# processedStudents = [processedStudent1, processedStudent2, ...]\n",
    "\n",
    "processedStudents = []\n",
    "for single_outcome in outcome:\n",
    "    processedStudent = [single_outcome[0]]\n",
    "    frequencyMap = {}\n",
    "    for i in range(1, len(single_outcome)):\n",
    "        if single_outcome[i] not in frequencyMap:\n",
    "            frequencyMap[single_outcome[i]] = 1\n",
    "        else:\n",
    "            frequencyMap[single_outcome[i]] += 1\n",
    "    processedStudent.append(frequencyMap)\n",
    "    processedStudents.append(processedStudent)\n",
    "print(processedStudents)\n",
    "print(len(processedStudents))"
   ]
  },
  {
   "cell_type": "code",
   "execution_count": 9,
   "id": "b35559bf",
   "metadata": {},
   "outputs": [],
   "source": [
    "# Fill in data to the spreadsheet\n",
    "\n",
    "# import package\n",
    "import xlsxwriter \n",
    "from openpyxl import Workbook\n",
    "from openpyxl.styles import Alignment\n",
    "from openpyxl.styles import PatternFill\n",
    "from openpyxl.styles import Font\n",
    "\n",
    "# Create Workbook \n",
    "workbook = Workbook()\n",
    "\n",
    "# Delete the empty worksheet\n",
    "del workbook[\"Sheet\"]\n",
    "\n",
    "# Sheets Names\n",
    "sName = \"Analysis of Pylint Outcome\"\n",
    "\n",
    "# Create Sheet\n",
    "workbook.create_sheet(sName)\n",
    "\n",
    "# Choose worksheet\n",
    "sheet = workbook[sName]"
   ]
  },
  {
   "cell_type": "code",
   "execution_count": 10,
   "id": "2b984673",
   "metadata": {},
   "outputs": [],
   "source": [
    "# Create worksheet x-axis title\n",
    "sheet[\"A1\"] = \"Student ID\"\n",
    "sheet.column_dimensions['A'].width = 30\n",
    "sheet[\"A1\"].alignment = Alignment(horizontal = 'center')\n",
    "index = 0\n",
    "for row in sheet.iter_rows(min_row = 1, min_col = 2, max_row = 1, max_col = len(allErrorCodes) + 1):\n",
    "    for cell in row:\n",
    "        sheet.column_dimensions[xlsxwriter.utility.xl_col_to_name(cell.column - 1)].width = 30\n",
    "        cell.value = allErrorCodes[index]\n",
    "        cell.alignment = Alignment(horizontal = 'center')\n",
    "        cell.fill = PatternFill(start_color = \"00FFFF00\", end_color = \"00FFFF00\", fill_type = \"solid\")\n",
    "        cell.font = Font(bold = True)\n",
    "        index += 1"
   ]
  },
  {
   "cell_type": "code",
   "execution_count": 11,
   "id": "6a6013db",
   "metadata": {},
   "outputs": [],
   "source": [
    "# Fill in the information of each student\n",
    "\n",
    "# Define the level of numbers of errors (for visualizarion later)\n",
    "maxError = 0\n",
    "for processedStudent in processedStudents:\n",
    "    if maxError < max(processedStudent[1].values()):\n",
    "        maxError = max(processedStudent[1].values())\n",
    "\n",
    "studentIndex = 0\n",
    "for row in sheet.iter_rows(min_row = 2, min_col = 1, max_row = len(processedStudents) + 1, max_col = len(allErrorCodes) + 1):\n",
    "    flag = True\n",
    "    errorCodeIndex = 0\n",
    "    for cell in row:\n",
    "        if flag:\n",
    "            cell.value = processedStudents[studentIndex][0]\n",
    "            cell.font = Font(bold = True)\n",
    "            flag = False\n",
    "        else:\n",
    "            # Loop through set of error codes\n",
    "            errorCodes = processedStudents[studentIndex][1]\n",
    "            if allErrorCodes[errorCodeIndex] in errorCodes:\n",
    "                cell.value = errorCodes[allErrorCodes[errorCodeIndex]]\n",
    "                # Add gradient colors for better visualization\n",
    "                hexColor = '#%02x%02x%02x' % ((int)(255 - ((cell.value / maxError) * 255)), (int)(255 - ((cell.value / maxError) * 155)), 255)\n",
    "                cell.fill = PatternFill(start_color = str(hexColor)[1:], end_color = str(hexColor)[1:], fill_type = \"solid\")\n",
    "            errorCodeIndex += 1  \n",
    "        cell.alignment = Alignment(horizontal = 'center')\n",
    "    studentIndex += 1"
   ]
  },
  {
   "cell_type": "code",
   "execution_count": 12,
   "id": "17afe4bc",
   "metadata": {},
   "outputs": [],
   "source": [
    "# Count warning message of each student\n",
    "\n",
    "# Title of the column\n",
    "sheet.cell(row = 1, column = len(allErrorCodes) + 2).value = \"Total Warning per Student\"\n",
    "sheet.cell(row = 1, column = len(allErrorCodes) + 2).font = Font(bold = True)\n",
    "sheet.cell(row = 1, column = len(allErrorCodes) + 2).fill = PatternFill(start_color = \"00FFFF00\", end_color = \"00FFFF00\", fill_type = \"solid\")\n",
    "sheet.column_dimensions[xlsxwriter.utility.xl_col_to_name(len(allErrorCodes) + 1)].width = 30\n",
    "\n",
    "studentIndex = 0\n",
    "maxError = 0\n",
    "for row in sheet.iter_rows(min_row = 2, min_col = len(allErrorCodes) + 2, max_row = len(processedStudents) + 1, max_col = len(allErrorCodes) + 2):\n",
    "    for cell in row:\n",
    "        cell.value = sum(processedStudents[studentIndex][1].values())\n",
    "        if maxError < cell.value:\n",
    "            maxError = cell.value\n",
    "        cell.alignment = Alignment(horizontal = 'center')\n",
    "        # Add gradient colors for better visualization\n",
    "        hexColor = '#%02x%02x%02x' % (255, (int)(255 - ((cell.value / maxError) * 255)), (int)(255 - ((cell.value / maxError) * 255)))\n",
    "        cell.fill = PatternFill(start_color = str(hexColor)[1:], end_color = str(hexColor)[1:], fill_type = \"solid\")\n",
    "        studentIndex += 1"
   ]
  },
  {
   "cell_type": "code",
   "execution_count": 13,
   "id": "af82b2d0",
   "metadata": {},
   "outputs": [],
   "source": [
    "# Count warning message occurrence\n",
    "\n",
    "# Title of the row\n",
    "sheet.cell(row = len(processedStudents) + 2, column = 1).value = \"Warning Message Occurrence\"\n",
    "sheet.cell(row = len(processedStudents) + 2, column = 1).font = Font(bold = True)\n",
    "sheet.cell(row = len(processedStudents) + 2, column = 1).alignment = Alignment(horizontal = 'center')\n",
    "\n",
    "# Count the frequency of each warning message\n",
    "errorFreq = []\n",
    "for singleError in allErrorCodes:\n",
    "    errorCounter = 0\n",
    "    for processedStudent in processedStudents:\n",
    "        if singleError in processedStudent[1]:\n",
    "            errorCounter += processedStudent[1][singleError]\n",
    "    errorFreq.append(errorCounter)\n",
    "\n",
    "maxError = max(errorFreq)\n",
    "errorIndex = 0\n",
    "for row in sheet.iter_rows(min_row = len(processedStudents) + 2, min_col = 2, max_row = len(processedStudents) + 2, max_col = len(allErrorCodes) + 1):\n",
    "    for cell in row:\n",
    "        cell.value = errorFreq[errorIndex]\n",
    "        cell.alignment = Alignment(horizontal = 'center')\n",
    "         # Add gradient colors for better visualization\n",
    "        hexColor = '#%02x%02x%02x' % (255, (int)(255 - ((cell.value / maxError) * 255)), (int)(255 - ((cell.value / maxError) * 255)))\n",
    "        cell.fill = PatternFill(start_color = str(hexColor)[1:], end_color = str(hexColor)[1:], fill_type = \"solid\")\n",
    "        errorIndex += 1"
   ]
  },
  {
   "cell_type": "code",
   "execution_count": 14,
   "id": "a9a6e442",
   "metadata": {},
   "outputs": [
    {
     "data": {
      "text/plain": [
       "[\"C0325: Unnecessary parens after 'not' keyword (superfluous-parens)\",\n",
       " 'W1309: Using an f-string that does not have any interpolated variables (f-string-without-interpolation)',\n",
       " 'C0103: Module name \"question4-s19\" doesn\\'t conform to snake_case naming style (invalid-name)',\n",
       " 'C0103: Module name \"question4-s127\" doesn\\'t conform to snake_case naming style (invalid-name)',\n",
       " 'C0103: Module name \"question4-s54\" doesn\\'t conform to snake_case naming style (invalid-name)',\n",
       " 'C0103: Module name \"question4-s118\" doesn\\'t conform to snake_case naming style (invalid-name)',\n",
       " 'C0103: Module name \"question4-s23\" doesn\\'t conform to snake_case naming style (invalid-name)',\n",
       " 'C0103: Module name \"question4-s123\" doesn\\'t conform to snake_case naming style (invalid-name)',\n",
       " \"C0325: Unnecessary parens after 'elif' keyword (superfluous-parens)\",\n",
       " 'C0103: Module name \"question4-s124\" doesn\\'t conform to snake_case naming style (invalid-name)',\n",
       " 'C0114: Missing module docstring (missing-module-docstring)',\n",
       " 'C0301: Line too long (104/100) (line-too-long)',\n",
       " 'W0311: Bad indentation. Found 8 spaces, expected 4 (bad-indentation)',\n",
       " 'C0103: Module name \"question4-s137\" doesn\\'t conform to snake_case naming style (invalid-name)',\n",
       " 'C0103: Module name \"question4-s37\" doesn\\'t conform to snake_case naming style (invalid-name)',\n",
       " \"W0622: Redefining built-in 'list' (redefined-builtin)\",\n",
       " 'C0103: Module name \"question4-s113\" doesn\\'t conform to snake_case naming style (invalid-name)',\n",
       " 'C0103: Module name \"question4-s116\" doesn\\'t conform to snake_case naming style (invalid-name)',\n",
       " \"E0602: Undefined variable 'list_q3_forloop' (undefined-variable)\",\n",
       " 'C0103: Module name \"question4-s06\" doesn\\'t conform to snake_case naming style (invalid-name)',\n",
       " 'C0103: Module name \"question4-s48\" doesn\\'t conform to snake_case naming style (invalid-name)',\n",
       " 'C0103: Module name \"question4-s126\" doesn\\'t conform to snake_case naming style (invalid-name)',\n",
       " 'C0103: Module name \"question4-s114\" doesn\\'t conform to snake_case naming style (invalid-name)',\n",
       " 'C0103: Module name \"question4-s120\" doesn\\'t conform to snake_case naming style (invalid-name)',\n",
       " 'C0103: Module name \"question4-s129\" doesn\\'t conform to snake_case naming style (invalid-name)',\n",
       " 'C0103: Module name \"question4-s59\" doesn\\'t conform to snake_case naming style (invalid-name)',\n",
       " 'E0001: unexpected indent (<unknown>, line 2) (syntax-error)',\n",
       " 'C0103: Module name \"question4-s46\" doesn\\'t conform to snake_case naming style (invalid-name)',\n",
       " 'R1724: Unnecessary \"elif\" after \"continue\" (no-else-continue)',\n",
       " 'C0103: Module name \"question4-s24\" doesn\\'t conform to snake_case naming style (invalid-name)',\n",
       " 'C0305: Trailing newlines (trailing-newlines)',\n",
       " 'C0103: Module name \"question4-s17\" doesn\\'t conform to snake_case naming style (invalid-name)',\n",
       " 'C0103: Module name \"question4-s39\" doesn\\'t conform to snake_case naming style (invalid-name)',\n",
       " 'C0103: Module name \"question4-s121\" doesn\\'t conform to snake_case naming style (invalid-name)',\n",
       " \"W0127: Assigning the same variable 'i' to itself (self-assigning-variable)\",\n",
       " 'C0103: Module name \"question4-s34\" doesn\\'t conform to snake_case naming style (invalid-name)',\n",
       " 'C0103: Module name \"question4-s04\" doesn\\'t conform to snake_case naming style (invalid-name)',\n",
       " 'C0103: Module name \"question4-s105\" doesn\\'t conform to snake_case naming style (invalid-name)',\n",
       " 'C0103: Module name \"question4-s05\" doesn\\'t conform to snake_case naming style (invalid-name)',\n",
       " 'C0103: Module name \"question4-s32\" doesn\\'t conform to snake_case naming style (invalid-name)',\n",
       " 'C0103: Module name \"question4-s58\" doesn\\'t conform to snake_case naming style (invalid-name)',\n",
       " 'C0103: Module name \"question4-s16\" doesn\\'t conform to snake_case naming style (invalid-name)',\n",
       " 'C0103: Module name \"question4-s26\" doesn\\'t conform to snake_case naming style (invalid-name)',\n",
       " 'C0103: Module name \"question4-s01\" doesn\\'t conform to snake_case naming style (invalid-name)',\n",
       " 'C0103: Module name \"question4-s22\" doesn\\'t conform to snake_case naming style (invalid-name)',\n",
       " 'C0301: Line too long (130/100) (line-too-long)',\n",
       " 'C0103: Module name \"question4-s49\" doesn\\'t conform to snake_case naming style (invalid-name)',\n",
       " \"W0127: Assigning the same variable 'list4' to itself (self-assigning-variable)\",\n",
       " 'C0103: Module name \"question4-s31\" doesn\\'t conform to snake_case naming style (invalid-name)',\n",
       " 'C0303: Trailing whitespace (trailing-whitespace)',\n",
       " 'C0103: Module name \"question4-s27\" doesn\\'t conform to snake_case naming style (invalid-name)',\n",
       " 'R1716: Simplify chained comparison between the operands (chained-comparison)',\n",
       " 'R0801: Similar lines in 2 files',\n",
       " 'C0103: Module name \"question4-s112\" doesn\\'t conform to snake_case naming style (invalid-name)',\n",
       " 'C0103: Constant name \"nothing\" doesn\\'t conform to UPPER_CASE naming style (invalid-name)',\n",
       " \"E0602: Undefined variable 'm' (undefined-variable)\",\n",
       " 'C0103: Module name \"question4-s25\" doesn\\'t conform to snake_case naming style (invalid-name)',\n",
       " 'C0103: Module name \"question4-s52\" doesn\\'t conform to snake_case naming style (invalid-name)',\n",
       " 'C0103: Module name \"question4-s38\" doesn\\'t conform to snake_case naming style (invalid-name)',\n",
       " \"C0325: Unnecessary parens after 'if' keyword (superfluous-parens)\",\n",
       " 'C0103: Module name \"question4-s115\" doesn\\'t conform to snake_case naming style (invalid-name)',\n",
       " \"E0602: Undefined variable 's' (undefined-variable)\",\n",
       " 'C0103: Module name \"question4-s100\" doesn\\'t conform to snake_case naming style (invalid-name)',\n",
       " 'C0103: Module name \"question4-s02\" doesn\\'t conform to snake_case naming style (invalid-name)']"
      ]
     },
     "execution_count": 14,
     "metadata": {},
     "output_type": "execute_result"
    }
   ],
   "source": [
    "# Add reference to the meaning of each warning code\n",
    "simpleCodeReference = []\n",
    "allErrorCodesCpy = list(allErrorCodes)\n",
    "for ref in codeReference:\n",
    "    singleSimpleCodeReference = []\n",
    "    singleSimpleCodeReference.append(ref[0:5])\n",
    "    start = ref.rfind('(') + 1\n",
    "    end = ref.rfind(')')\n",
    "    if start == 0 or end == -1:\n",
    "        singleSimpleCodeReference.append(ref[8:])\n",
    "    else:\n",
    "        singleSimpleCodeReference.append(ref[start : end])\n",
    "    if singleSimpleCodeReference[0] in allErrorCodesCpy: \n",
    "        simpleCodeReference.append(singleSimpleCodeReference)\n",
    "        allErrorCodesCpy.remove(singleSimpleCodeReference[0])\n",
    "\n",
    "# Sort error codes\n",
    "simpleCodeReference.sort(key = lambda x:x[0])\n",
    "# simpleCodeReference\n",
    "completeCodeReference = list(codeReference)\n",
    "completeCodeReference"
   ]
  },
  {
   "cell_type": "code",
   "execution_count": 15,
   "id": "69a38f15",
   "metadata": {},
   "outputs": [],
   "source": [
    "# Add code reference to excel\n",
    "# Title of the row\n",
    "sheet.cell(row = len(processedStudents) + 3, column = 1).value = \"Code Reference\"\n",
    "sheet.cell(row = len(processedStudents) + 3, column = 1).font = Font(bold = True)\n",
    "sheet.cell(row = len(processedStudents) + 3, column = 1).alignment = Alignment(horizontal = 'center')\n",
    "refIndex = 0\n",
    "for row in sheet.iter_rows(min_row = len(processedStudents) + 3, min_col = 2, max_row = len(processedStudents) + 3, max_col = len(allErrorCodes) + 1):\n",
    "    for cell in row:\n",
    "        cell.value = simpleCodeReference[refIndex][1]\n",
    "        cell.alignment = Alignment(horizontal = 'center')\n",
    "        refIndex += 1"
   ]
  },
  {
   "cell_type": "code",
   "execution_count": 16,
   "id": "a800b03d",
   "metadata": {},
   "outputs": [],
   "source": [
    "workbook.save(filename=\"Week1.xlsx\")"
   ]
  }
 ],
 "metadata": {
  "kernelspec": {
   "display_name": "Python 3",
   "language": "python",
   "name": "python3"
  },
  "language_info": {
   "codemirror_mode": {
    "name": "ipython",
    "version": 3
   },
   "file_extension": ".py",
   "mimetype": "text/x-python",
   "name": "python",
   "nbconvert_exporter": "python",
   "pygments_lexer": "ipython3",
   "version": "3.8.8"
  },
  "vscode": {
   "interpreter": {
    "hash": "31f2aee4e71d21fbe5cf8b01ff0e069b9275f58929596ceb00d14d90e3e16cd6"
   }
  }
 },
 "nbformat": 4,
 "nbformat_minor": 5
}
