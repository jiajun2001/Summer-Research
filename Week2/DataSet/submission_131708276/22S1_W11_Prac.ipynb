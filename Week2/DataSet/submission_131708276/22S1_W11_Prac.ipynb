{
 "cells": [
  {
   "cell_type": "markdown",
   "id": "b7bd1e38",
   "metadata": {},
   "source": [
    "# COMP SCI 2009 Programming for IT - W11 - Practical"
   ]
  },
  {
   "cell_type": "markdown",
   "id": "fbfa3074",
   "metadata": {},
   "source": [
    "# Set Covering\n",
    "As mentioned in the lecture, the **set cover problem** is an NP-complete problem. In this task, you will solve this question using both exhausive search (brute force) and greedy apporach. \n",
    "\n",
    "The problem is defined as follow:\n",
    "\n",
    "Given a `list` of `sets` where each `set` contains integers, please find the minimum number of sets that cover the integers from `1` to `10`\n",
    "\n",
    "For example, given the following three sets:\n",
    "1. `[1, 2, 3, 4, 5]`\n",
    "1. `[2, 4, 6, 8]`\n",
    "1. `[6, 7, 8, 9, 10]`\n",
    "\n",
    "Your code should find that `set1` and `set3` will cover all the integers from `1` to `10`.\n"
   ]
  },
  {
   "cell_type": "markdown",
   "id": "c4ba3759",
   "metadata": {},
   "source": [
    "## Exercise 1: Set cover - brute force \n",
    "\n",
    "First, implement the brute force approach that tests `all` combinations. You can assume there will be a solution. To simplify your code a bit, you can use the `itertools`. Please read its document and examples below:\n",
    "\n",
    "- https://www.geeksforgeeks.org/itertools-combinations-module-python-print-possible-combinations/\n",
    "- https://docs.python.org/3/library/itertools.html"
   ]
  },
  {
   "cell_type": "code",
   "execution_count": 6,
   "id": "8e86559b",
   "metadata": {
    "tags": []
   },
   "outputs": [
    {
     "name": "stdout",
     "output_type": "stream",
     "text": [
      "([1, 2, 3], [4, 5, 6], [7, 8, 9, 10])\n",
      "---\n",
      "([1, 7], [2, 4, 8, 9, 10], [3, 5, 6])\n"
     ]
    }
   ],
   "source": [
    "import itertools\n",
    "\n",
    "def brute_force_set(li):\n",
    "    # INSERT YOUR CODE BELOW\n",
    "    # use itertools.combinations\n",
    "    # ~ 8 lines\n",
    "     for leng in range(len(li)):\n",
    "        comb = itertools.combinations(li,leng)\n",
    "        for p in comb:\n",
    "            union_set=[]\n",
    "            for end in p:\n",
    "                union_set += end\n",
    "            if set([1,2,3,4,5,6,7,8,9,10]).issubset(set(union_set)):\n",
    "                return p\n",
    "            \n",
    "        \n",
    "# ================\n",
    "# TEST CASES BELOW\n",
    "\n",
    "set_list1 = [ # first test input\n",
    "    [1, 2, 3],\n",
    "    [4, 5, 6],\n",
    "    [7, 8, 9, 10],\n",
    "    [1, 3, 7],\n",
    "    [2, 4, 6, 8]\n",
    "]\n",
    "\n",
    "set_list2 = [ # second test input\n",
    "    [4, 2, 5],\n",
    "    [1, 7],\n",
    "    [2, 4, 8, 9, 10],\n",
    "    [5, 10],\n",
    "    [3, 5, 6],\n",
    "    [2, 6],\n",
    "    [1, 8, 9, 10]\n",
    "]\n",
    "            \n",
    "ss = brute_force_set(set_list1)\n",
    "print(ss) # ([1, 2, 3], [4, 5, 6], [7, 8, 9, 10])\n",
    "print('---')\n",
    "ss = brute_force_set(set_list2)\n",
    "print(ss) # ([1, 7], [2, 4, 8, 9, 10], [3, 5, 6])"
   ]
  },
  {
   "cell_type": "markdown",
   "id": "bcf7b2ca",
   "metadata": {},
   "source": [
    "## Exercise 2: Set cover - greedy\n",
    "\n",
    "\n",
    "\n",
    "In this exercise, please implement a greedy algorithm that **for each step, takes a set that contains the most uncovered integers** until it covers all integers from `1` to `10`."
   ]
  },
  {
   "cell_type": "code",
   "execution_count": 31,
   "id": "7f385186",
   "metadata": {
    "tags": []
   },
   "outputs": [
    {
     "ename": "TypeError",
     "evalue": "'int' object is not callable",
     "output_type": "error",
     "traceback": [
      "\u001b[1;31m---------------------------------------------------------------------------\u001b[0m",
      "\u001b[1;31mTypeError\u001b[0m                                 Traceback (most recent call last)",
      "Input \u001b[1;32mIn [31]\u001b[0m, in \u001b[0;36m<cell line: 59>\u001b[1;34m()\u001b[0m\n\u001b[0;32m     41\u001b[0m set_list1 \u001b[38;5;241m=\u001b[39m [ \u001b[38;5;66;03m# first test input\u001b[39;00m\n\u001b[0;32m     42\u001b[0m     [\u001b[38;5;241m1\u001b[39m, \u001b[38;5;241m2\u001b[39m, \u001b[38;5;241m3\u001b[39m],\n\u001b[0;32m     43\u001b[0m     [\u001b[38;5;241m4\u001b[39m, \u001b[38;5;241m5\u001b[39m, \u001b[38;5;241m6\u001b[39m],\n\u001b[1;32m   (...)\u001b[0m\n\u001b[0;32m     46\u001b[0m     [\u001b[38;5;241m2\u001b[39m, \u001b[38;5;241m4\u001b[39m, \u001b[38;5;241m6\u001b[39m, \u001b[38;5;241m8\u001b[39m]\n\u001b[0;32m     47\u001b[0m ]\n\u001b[0;32m     49\u001b[0m set_list2 \u001b[38;5;241m=\u001b[39m [ \u001b[38;5;66;03m# second test input\u001b[39;00m\n\u001b[0;32m     50\u001b[0m     [\u001b[38;5;241m4\u001b[39m, \u001b[38;5;241m2\u001b[39m, \u001b[38;5;241m5\u001b[39m],\n\u001b[0;32m     51\u001b[0m     [\u001b[38;5;241m1\u001b[39m, \u001b[38;5;241m7\u001b[39m],\n\u001b[1;32m   (...)\u001b[0m\n\u001b[0;32m     56\u001b[0m     [\u001b[38;5;241m1\u001b[39m, \u001b[38;5;241m8\u001b[39m, \u001b[38;5;241m9\u001b[39m, \u001b[38;5;241m10\u001b[39m]\n\u001b[0;32m     57\u001b[0m ]\n\u001b[1;32m---> 59\u001b[0m s \u001b[38;5;241m=\u001b[39m \u001b[43mgreedy_set\u001b[49m\u001b[43m(\u001b[49m\u001b[43mset_list1\u001b[49m\u001b[43m)\u001b[49m\n\u001b[0;32m     60\u001b[0m \u001b[38;5;28mprint\u001b[39m(s) \u001b[38;5;66;03m# [[7, 8, 9, 10], [1, 2, 3], [4, 5, 6]]\u001b[39;00m\n\u001b[0;32m     61\u001b[0m \u001b[38;5;28mprint\u001b[39m(\u001b[38;5;124m'\u001b[39m\u001b[38;5;124m---\u001b[39m\u001b[38;5;124m'\u001b[39m)\n",
      "Input \u001b[1;32mIn [31]\u001b[0m, in \u001b[0;36mgreedy_set\u001b[1;34m(list_sets)\u001b[0m\n\u001b[0;32m      9\u001b[0m c\u001b[38;5;241m=\u001b[39m\u001b[38;5;241m0\u001b[39m\n\u001b[0;32m     10\u001b[0m \u001b[38;5;28;01mwhile\u001b[39;00m \u001b[38;5;28;01mTrue\u001b[39;00m:\n\u001b[0;32m     11\u001b[0m     \u001b[38;5;66;03m# INSERT YOUR CODE BELOW\u001b[39;00m\n\u001b[0;32m     12\u001b[0m     \u001b[38;5;66;03m# Step 1: search for the set with most uncovered integers\u001b[39;00m\n\u001b[0;32m     13\u001b[0m     \u001b[38;5;66;03m# Step 2: add the set into ans\u001b[39;00m\n\u001b[0;32m     14\u001b[0m     \u001b[38;5;66;03m# Step 3: check if ans already cover all integers\u001b[39;00m\n\u001b[0;32m     15\u001b[0m     \u001b[38;5;66;03m# ~ 15 lines\u001b[39;00m\n\u001b[1;32m---> 17\u001b[0m     \u001b[38;5;28;01mfor\u001b[39;00m i \u001b[38;5;129;01min\u001b[39;00m \u001b[43mc\u001b[49m\u001b[43m(\u001b[49m\u001b[43msets\u001b[49m\u001b[43m)\u001b[49m:\n\u001b[0;32m     18\u001b[0m         kk\u001b[38;5;241m=\u001b[39mkk\u001b[38;5;241m+\u001b[39m\u001b[38;5;241m2\u001b[39m\n\u001b[0;32m     20\u001b[0m         \u001b[38;5;28;01mfor\u001b[39;00m j \u001b[38;5;129;01min\u001b[39;00m i:\n",
      "\u001b[1;31mTypeError\u001b[0m: 'int' object is not callable"
     ]
    }
   ],
   "source": [
    "import copy \n",
    "\n",
    "def greedy_set(list_sets):\n",
    "    sets = list_sets.copy()\n",
    "    ans = [] # your answer, should be a list of sets\n",
    "    covered = {}\n",
    "\n",
    "    kk = 0\n",
    "    c=0\n",
    "    while True:\n",
    "        # INSERT YOUR CODE BELOW\n",
    "        # Step 1: search for the set with most uncovered integers\n",
    "        # Step 2: add the set into ans\n",
    "        # Step 3: check if ans already cover all integers\n",
    "        # ~ 15 lines \n",
    "    \n",
    "\n",
    "\n",
    "\n",
    "        \n",
    "        # BELOW 3 LINES ARE TO AVOID INFINITE LOOP FOR YOU\n",
    "        kk += 1\n",
    "        if kk > 10:\n",
    "            break\n",
    "\n",
    "# ================\n",
    "# TEST CASES BELOW\n",
    "\n",
    "set_list1 = [ # first test input\n",
    "    [1, 2, 3],\n",
    "    [4, 5, 6],\n",
    "    [7, 8, 9, 10],\n",
    "    [1, 3, 7],\n",
    "    [2, 4, 6, 8]\n",
    "]\n",
    "\n",
    "set_list2 = [ # second test input\n",
    "    [4, 2, 5],\n",
    "    [1, 7],\n",
    "    [2, 4, 8, 9, 10],\n",
    "    [5, 10],\n",
    "    [3, 5, 6],\n",
    "    [2, 6],\n",
    "    [1, 8, 9, 10]\n",
    "]\n",
    "\n",
    "s = greedy_set(set_list1)\n",
    "print(s) # [[7, 8, 9, 10], [1, 2, 3], [4, 5, 6]]\n",
    "print('---')\n",
    "s = greedy_set(set_list2)\n",
    "print(s) # [[2, 4, 8, 9, 10], [3, 5, 6], [1, 7]]"
   ]
  },
  {
   "cell_type": "markdown",
   "id": "6a49e3a8",
   "metadata": {},
   "source": [
    "# Exercise 3 - Knapsack Problem\n",
    "\n",
    "It’s Boxing Day and you are in a shopping contest! You have one shopping bag and you would like to fill your bags with items that have the largest sum of values. Please solve this problem using dynamic programming."
   ]
  },
  {
   "cell_type": "code",
   "execution_count": 10,
   "id": "a7c65dd5",
   "metadata": {
    "tags": []
   },
   "outputs": [
    {
     "name": "stdout",
     "output_type": "stream",
     "text": [
      "    0    0    0    0 3000 \n",
      "    0 1500 1500 1500 3000 \n",
      "    0 1500 1500 2000 3500 \n",
      "---\n",
      "    0  700  700  700  700  700  700  700 \n",
      "    0  700  700  700 1000 1000 1000 1000 \n",
      "    0  700  700  700 1400 1400 1400 1700 \n",
      "    0  700  700  700 1400 1700 1700 1700 \n",
      "    0  700  700 1200 1900 1900 1900 2600 \n",
      "    0  900 1600 1600 2100 2800 2800 2800 \n",
      "    0  900 1700 2400 2400 2900 3600 3600 \n"
     ]
    }
   ],
   "source": [
    "bag1 = 4 # the maximum weight for the bag\n",
    "item_list1 = [\n",
    "    ['guitar', 4, 3000],\n",
    "    ['speaker', 1, 1500],\n",
    "    ['laptop', 3, 2000]\n",
    "]\n",
    "\n",
    "bag2 = 7 # the maximum weight for the bag\n",
    "item_list2 = [\n",
    "    ['pasta', 1, 700],\n",
    "    ['soups', 3, 300],\n",
    "    ['pork', 3, 700],\n",
    "    ['steak', 4, 1000],\n",
    "    ['lamb', 3, 1200],\n",
    "    ['Cheese', 1, 900],\n",
    "    ['Mushroom', 1, 800],\n",
    "]\n",
    "\n",
    "def knapsack_dp(bag_size, items):\n",
    "    num_row = len(items)\n",
    "    num_col = bag_size    \n",
    "    grid = [[0]* (num_col+1) for _ in range(num_row)] # initialise the grid    \n",
    "    prev_max = 0\n",
    "    \n",
    "    # INSERT YOUR CODE\n",
    "    # Update the DP table (the variable grid)\n",
    "    # ~ 15 lines\n",
    "    for a in range(0, num_row):\n",
    "        for b in range(1, num_col + 1):\n",
    "            if a ==0:\n",
    "                prev_max = 0\n",
    "            else:\n",
    "                prev_max= grid[a - 1] [b]\n",
    "            item_w = items[a][1]\n",
    "            new_val = items[a][2] + grid[a-1][b - item_w]\n",
    "            \n",
    "            if b >=item_w:\n",
    "                grid[a][b] = max(prev_max, new_val)\n",
    "            else :\n",
    "                grid[a][b] = prev_max\n",
    "    \n",
    "    \n",
    "    return grid\n",
    "\n",
    "def display(grid):\n",
    "    for r in grid:\n",
    "        s = ' '\n",
    "        for c in r:\n",
    "            s += f'{c:4} '\n",
    "        print(s)\n",
    "\n",
    "g = knapsack_dp(bag1, item_list1)\n",
    "display(g)\n",
    "print('---')\n",
    "g = knapsack_dp(bag2, item_list2)\n",
    "display(g)\n",
    "\n",
    "# output should be as below\n",
    "\n",
    "#     0    0    0    0 3000 \n",
    "#     0 1500 1500 1500 3000 \n",
    "#     0 1500 1500 2000 3500 \n",
    "# ---\n",
    "#     0  700  700  700  700  700  700  700 \n",
    "#     0  700  700  700 1000 1000 1000 1000 \n",
    "#     0  700  700  700 1400 1400 1400 1700 \n",
    "#     0  700  700  700 1400 1700 1700 1700 \n",
    "#     0  700  700 1200 1900 1900 1900 2600 \n",
    "#     0  900 1600 1600 2100 2800 2800 2800 \n",
    "#     0  900 1700 2400 2400 2900 3600 3600 "
   ]
  },
  {
   "cell_type": "code",
   "execution_count": null,
   "id": "5f72aa28",
   "metadata": {},
   "outputs": [],
   "source": []
  }
 ],
 "metadata": {
  "kernelspec": {
   "display_name": "Python 3 (ipykernel)",
   "language": "python",
   "name": "python3"
  },
  "language_info": {
   "codemirror_mode": {
    "name": "ipython",
    "version": 3
   },
   "file_extension": ".py",
   "mimetype": "text/x-python",
   "name": "python",
   "nbconvert_exporter": "python",
   "pygments_lexer": "ipython3",
   "version": "3.9.12"
  },
  "otter": {
   "tests": {
    "Task1": {
     "name": "Task1",
     "points": 1,
     "suites": [
      {
       "cases": [
        {
         "code": ">>> s = [[1, 2, 3], [4, 5, 6, 7], [8, 9, 10], [3, 5]]\n>>> ss = brute_force_set(s)\n>>> ss[-1]\n[8, 9, 10]",
         "failure_message": "Incorrect answer, try again!",
         "hidden": false,
         "locked": false,
         "success_message": "Good job!"
        },
        {
         "code": ">>> s = [[1, 2, 3, 4, 5, 6, 7, 8], [2, 4, 6], [9], [10], [8]]\n>>> ss = brute_force_set(s)\n>>> ss[-1]\n[10]",
         "failure_message": "Incorrect answer, try again!",
         "hidden": false,
         "locked": false,
         "success_message": "Good job!"
        }
       ],
       "scored": true,
       "setup": "",
       "teardown": "",
       "type": "doctest"
      }
     ]
    },
    "Task2": {
     "name": "Task2",
     "points": 1,
     "suites": [
      {
       "cases": [
        {
         "code": ">>> s = [[1, 2, 3], [4, 5, 6, 7], [8, 9, 10], [3, 5]]\n>>> ss = greedy_set(s)\n>>> ss[-1]\n[8, 9, 10]",
         "failure_message": "Incorrect answer, try again!",
         "hidden": false,
         "locked": false,
         "success_message": "Good job!"
        },
        {
         "code": ">>> s = [[1, 2, 3, 4, 5, 6, 7, 8], [2, 4, 6], [9], [10], [8]]\n>>> ss = greedy_set(s)\n>>> ss[-1]\n[10]",
         "failure_message": "Incorrect answer, try again!",
         "hidden": false,
         "locked": false,
         "success_message": "Good job!"
        }
       ],
       "scored": true,
       "setup": "",
       "teardown": "",
       "type": "doctest"
      }
     ]
    },
    "Task3": {
     "name": "Task3",
     "points": 2,
     "suites": [
      {
       "cases": [
        {
         "code": ">>> item_list1 = [['a', 4, 3000],['b', 1, 1500],['c', 3, 2000]]\n>>> g = knapsack_dp(5, item_list1)\n>>> g[-1][-1]\n4500",
         "failure_message": "Incorrect answer, try again!",
         "hidden": false,
         "locked": false,
         "success_message": "Good job!"
        },
        {
         "code": ">>> # the maximum weight for the bag\n>>> item_list1 = [['a', 2, 3000],['b', 1, 1500],['c', 1, 2000]]\n>>> g = knapsack_dp(5, item_list1)\n>>> g[-1][-1]\n6500",
         "failure_message": "Incorrect answer, try again!",
         "hidden": false,
         "locked": false,
         "success_message": "Good job!"
        }
       ],
       "scored": true,
       "setup": "",
       "teardown": "",
       "type": "doctest"
      }
     ]
    }
   }
  }
 },
 "nbformat": 4,
 "nbformat_minor": 5
}
