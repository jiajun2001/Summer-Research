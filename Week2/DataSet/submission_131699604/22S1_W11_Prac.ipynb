{
 "cells": [
  {
   "cell_type": "markdown",
   "metadata": {
    "pycharm": {
     "name": "#%% md\n"
    }
   },
   "source": [
    "# COMP SCI 2009 Programming for IT - W11 - Practical"
   ]
  },
  {
   "cell_type": "markdown",
   "metadata": {
    "pycharm": {
     "name": "#%% md\n"
    }
   },
   "source": [
    "# Set Covering\n",
    "As mentioned in the lecture, the **set cover problem** is an NP-complete problem. In this task, you will solve this question using both exhausive search (brute force) and greedy apporach. \n",
    "\n",
    "The problem is defined as follow:\n",
    "\n",
    "Given a `list` of `sets` where each `set` contains integers, please find the minimum number of sets that cover the integers from `1` to `10`\n",
    "\n",
    "For example, given the following three sets:\n",
    "1. `[1, 2, 3, 4, 5]`\n",
    "1. `[2, 4, 6, 8]`\n",
    "1. `[6, 7, 8, 9, 10]`\n",
    "\n",
    "Your code should find that `set1` and `set3` will cover all the integers from `1` to `10`.\n"
   ]
  },
  {
   "cell_type": "markdown",
   "metadata": {
    "pycharm": {
     "name": "#%% md\n"
    }
   },
   "source": [
    "## Exercise 1: Set cover - brute force \n",
    "\n",
    "First, implement the brute force approach that tests `all` combinations. You can assume there will be a solution. To simplify your code a bit, you can use the `itertools`. Please read its document and examples below:\n",
    "\n",
    "- https://www.geeksforgeeks.org/itertools-combinations-module-python-print-possible-combinations/\n",
    "- https://docs.python.org/3/library/itertools.html"
   ]
  },
  {
   "cell_type": "code",
   "execution_count": 5,
   "metadata": {
    "pycharm": {
     "name": "#%%\n"
    },
    "tags": []
   },
   "outputs": [
    {
     "name": "stdout",
     "output_type": "stream",
     "text": [
      "([1, 2, 3], [4, 5, 6], [7, 8, 9, 10])\n",
      "---\n",
      "([1, 7], [2, 4, 8, 9, 10], [3, 5, 6])\n"
     ]
    }
   ],
   "source": [
    "from itertools import combinations\n",
    "\n",
    "def brute_force_set(li):\n",
    "    # INSERT YOUR CODE BELOW\n",
    "    # use itertools.combinations\n",
    "    # ~ 8 lines\n",
    "    idx_list = list(combinations([i for i in range(len(li))], 3))\n",
    "    # print(idx_list)\n",
    "    for idx in idx_list:\n",
    "        data_list = li[idx[0]] + li[idx[1]] + li[idx[2]]\n",
    "        if sorted(data_list) == [i+1 for i in range(10)]:\n",
    "            return (li[idx[0]], li[idx[1]], li[idx[2]])\n",
    "\n",
    "# ================\n",
    "# TEST CASES BELOW\n",
    "\n",
    "set_list1 = [ # first test input\n",
    "    [1, 2, 3],\n",
    "    [4, 5, 6],\n",
    "    [7, 8, 9, 10],\n",
    "    [1, 3, 7],\n",
    "    [2, 4, 6, 8]\n",
    "]\n",
    "\n",
    "set_list2 = [ # second test input\n",
    "    [4, 2, 5],\n",
    "    [1, 7],\n",
    "    [2, 4, 8, 9, 10],\n",
    "    [5, 10],\n",
    "    [3, 5, 6],\n",
    "    [2, 6],\n",
    "    [1, 8, 9, 10]\n",
    "]\n",
    "            \n",
    "ss = brute_force_set(set_list1)\n",
    "print(ss) # ([1, 2, 3], [4, 5, 6], [7, 8, 9, 10])\n",
    "print('---')\n",
    "ss = brute_force_set(set_list2)\n",
    "print(ss) # ([1, 7], [2, 4, 8, 9, 10], [3, 5, 6])"
   ]
  },
  {
   "cell_type": "markdown",
   "metadata": {
    "pycharm": {
     "name": "#%% md\n"
    }
   },
   "source": [
    "## Exercise 2: Set cover - greedy\n",
    "\n",
    "\n",
    "\n",
    "In this exercise, please implement a greedy algorithm that **for each step, takes a set that contains the most uncovered integers** until it covers all integers from `1` to `10`."
   ]
  },
  {
   "cell_type": "code",
   "execution_count": 6,
   "metadata": {
    "pycharm": {
     "name": "#%%\n"
    },
    "tags": []
   },
   "outputs": [
    {
     "name": "stdout",
     "output_type": "stream",
     "text": [
      "[[7, 8, 9, 10], [1, 2, 3], [4, 5, 6]]\n",
      "---\n",
      "[[2, 4, 8, 9, 10], [3, 5, 6], [1, 7]]\n"
     ]
    }
   ],
   "source": [
    "import copy\n",
    "def greedy_set(list_sets):\n",
    "    sets = list_sets.copy()\n",
    "    ans = [] # your answer, should be a list of sets\n",
    "    covered = {}\n",
    "\n",
    "    kk = 0\n",
    "    while True:\n",
    "        # INSERT YOUR CODE BELOW\n",
    "        # Step 1: search for the set with most uncovered integers\n",
    "        # Step 2: add the set into ans\n",
    "        # Step 3: check if ans already cover all integers\n",
    "        # ~ 15 lines\n",
    "        signal = 0\n",
    "        length_list = [len(sets[i]) for i in range(len(sets))]\n",
    "        target_length = max(length_list)\n",
    "        for i in range(len(sets)):\n",
    "            if len(sets[i]) == target_length:\n",
    "                break\n",
    "\n",
    "        for j in range(len(sets[i])):\n",
    "            if sets[i][j] in covered.keys():\n",
    "                signal = 1\n",
    "                del sets[i]\n",
    "                break\n",
    "        if signal == 0:\n",
    "            for j in range(len(sets[i])):\n",
    "                covered[sets[i][j]] = 1\n",
    "            ans.append(sets[i])\n",
    "            del sets[i]\n",
    "        elif signal == 1:\n",
    "            continue\n",
    "        if sorted(list(covered.keys())) == [j+1 for j in range(10)]:\n",
    "            break\n",
    "        # BELOW 3 LINES ARE TO AVOID INFINITE LOOP FOR YOU\n",
    "        kk += 1\n",
    "        if kk > 10:\n",
    "            break\n",
    "    return ans\n",
    "\n",
    "# ================\n",
    "# TEST CASES BELOW\n",
    "\n",
    "set_list1 = [ # first test input\n",
    "    [1, 2, 3],\n",
    "    [4, 5, 6],\n",
    "    [7, 8, 9, 10],\n",
    "    [1, 3, 7],\n",
    "    [2, 4, 6, 8]\n",
    "]\n",
    "\n",
    "set_list2 = [ # second test input\n",
    "    [4, 2, 5],\n",
    "    [1, 7],\n",
    "    [2, 4, 8, 9, 10],\n",
    "    [5, 10],\n",
    "    [3, 5, 6],\n",
    "    [2, 6],\n",
    "    [1, 8, 9, 10]\n",
    "]\n",
    "\n",
    "s = greedy_set(set_list1)\n",
    "print(s) # [[7, 8, 9, 10], [1, 2, 3], [4, 5, 6]]\n",
    "print('---')\n",
    "s = greedy_set(set_list2)\n",
    "print(s) # [[2, 4, 8, 9, 10], [3, 5, 6], [1, 7]]"
   ]
  },
  {
   "cell_type": "markdown",
   "metadata": {
    "pycharm": {
     "name": "#%% md\n"
    }
   },
   "source": [
    "# Exercise 3 - Knapsack Problem\n",
    "\n",
    "It’s Boxing Day and you are in a shopping contest! You have one shopping bag and you would like to fill your bags with items that have the largest sum of values. Please solve this problem using dynamic programming."
   ]
  },
  {
   "cell_type": "code",
   "execution_count": 10,
   "metadata": {
    "pycharm": {
     "name": "#%%\n"
    },
    "tags": []
   },
   "outputs": [
    {
     "name": "stdout",
     "output_type": "stream",
     "text": [
      "    0    0    0    0 3000 \n",
      "    0 1500 1500 1500 3000 \n",
      "    0 1500 1500 2000 3500 \n",
      "---\n",
      "    0  700  700  700  700  700  700  700 \n",
      "    0  700  700  700 1000 1000 1000 1000 \n",
      "    0  700  700  700 1400 1400 1400 1700 \n",
      "    0  700  700  700 1400 1700 1700 1700 \n",
      "    0  700  700 1200 1900 1900 1900 2600 \n",
      "    0  900 1600 1600 2100 2800 2800 2800 \n",
      "    0  900 1700 2400 2400 2900 3600 3600 \n"
     ]
    }
   ],
   "source": [
    "bag1 = 4 # the maximum weight for the bag\n",
    "item_list1 = [\n",
    "    ['guitar', 4, 3000],\n",
    "    ['speaker', 1, 1500],\n",
    "    ['laptop', 3, 2000]\n",
    "]\n",
    "\n",
    "bag2 = 7 # the maximum weight for the bag\n",
    "item_list2 = [\n",
    "    ['pasta', 1, 700],\n",
    "    ['soups', 3, 300],\n",
    "    ['pork', 3, 700],\n",
    "    ['steak', 4, 1000],\n",
    "    ['lamb', 3, 1200],\n",
    "    ['Cheese', 1, 900],\n",
    "    ['Mushroom', 1, 800],\n",
    "]\n",
    "\n",
    "def knapsack_dp(bag_size, items):\n",
    "    num_row = len(items)\n",
    "    num_col = bag_size    \n",
    "    grid = [[0]* (num_col+1) for _ in range(num_row)] # initialise the grid    \n",
    "    prev_max = 0\n",
    "    # INSERT YOUR CODE\n",
    "    # Update the DP table (the variable grid)\n",
    "    # ~ 15 lines\n",
    "    for i in range(num_row):\n",
    "        # print(items[i][1])\n",
    "        for j in range(num_col):\n",
    "            weight_l = [items[a][1] for a in range(i+1)]\n",
    "            value_l = [items[a][2] for a in range(i+1)]\n",
    "            # print(weight_l, value_l)\n",
    "            if (j+1) < min(weight_l):\n",
    "                # print('Backpack capacity cannot hold current items！')\n",
    "                new_list = [grid[a][j+1] for a in range(num_row)]\n",
    "                grid[i][j+1] = max(new_list)\n",
    "            else:\n",
    "                weight_list, value_list = [], []\n",
    "\n",
    "                # print('Backpack capacity cannot hold current items！')\n",
    "                count = [a+1 for a in range(len(weight_l))]\n",
    "                idx_list = []\n",
    "                for c in count:\n",
    "                    idx_list += list(combinations([a for a in range(len(weight_l))], c))\n",
    "                # print(idx_list)\n",
    "                for i_l in idx_list:\n",
    "                    num_list = []\n",
    "                    for a in range(len(i_l)):\n",
    "                        num_list.append(i_l[a])\n",
    "                    # for\n",
    "                    # print(num_list)\n",
    "                    weight_sum, value_sum = 0, 0\n",
    "                    for a in range(len(num_list)):\n",
    "                        weight_sum += weight_l[num_list[a]]\n",
    "                        value_sum += value_l[num_list[a]]\n",
    "                    if weight_sum <= (j+1):\n",
    "                        weight_list.append(weight_sum)\n",
    "                        value_list.append(value_sum)\n",
    "\n",
    "                if len(value_list) > 0:\n",
    "                    # print(f'The maximum value of the current collocation item is{max(value_list)}')\n",
    "                    if max(value_list) > prev_max:\n",
    "                        prev_max = max(value_list)\n",
    "                        grid[i][j+1] = prev_max\n",
    "                    else:\n",
    "                        grid[i][j+1] = max(value_list)\n",
    "    \n",
    "\n",
    "    return grid\n",
    "\n",
    "def display(grid):\n",
    "    for r in grid:\n",
    "        s = ' '\n",
    "        for c in r:\n",
    "            s += f'{c:4} '\n",
    "        print(s)\n",
    "\n",
    "g = knapsack_dp(bag1, item_list1)\n",
    "display(g)\n",
    "print('---')\n",
    "g = knapsack_dp(bag2, item_list2)\n",
    "display(g)\n",
    "\n",
    "# output should be as below\n",
    "\n",
    "#     0    0    0    0 3000 \n",
    "#     0 1500 1500 1500 3000 \n",
    "#     0 1500 1500 2000 3500 \n",
    "# ---\n",
    "#     0  700  700  700  700  700  700  700 \n",
    "#     0  700  700  700 1000 1000 1000 1000 \n",
    "#     0  700  700  700 1400 1400 1400 1700 \n",
    "#     0  700  700  700 1400 1700 1700 1700 \n",
    "#     0  700  700 1200 1900 1900 1900 2600 \n",
    "#     0  900 1600 1600 2100 2800 2800 2800 \n",
    "#     0  900 1700 2400 2400 2900 3600 3600 "
   ]
  },
  {
   "cell_type": "code",
   "execution_count": null,
   "metadata": {},
   "outputs": [],
   "source": []
  }
 ],
 "metadata": {
  "kernelspec": {
   "display_name": "Python 3",
   "language": "python",
   "name": "python3"
  },
  "language_info": {
   "codemirror_mode": {
    "name": "ipython",
    "version": 3
   },
   "file_extension": ".py",
   "mimetype": "text/x-python",
   "name": "python",
   "nbconvert_exporter": "python",
   "pygments_lexer": "ipython3",
   "version": "3.8.5"
  },
  "otter": {
   "tests": {
    "Task1": {
     "name": "Task1",
     "points": 1,
     "suites": [
      {
       "cases": [
        {
         "code": ">>> s = [[1, 2, 3], [4, 5, 6, 7], [8, 9, 10], [3, 5]]\n>>> ss = brute_force_set(s)\n>>> ss[-1]\n[8, 9, 10]",
         "failure_message": "Incorrect answer, try again!",
         "hidden": false,
         "locked": false,
         "success_message": "Good job!"
        },
        {
         "code": ">>> s = [[1, 2, 3, 4, 5, 6, 7, 8], [2, 4, 6], [9], [10], [8]]\n>>> ss = brute_force_set(s)\n>>> ss[-1]\n[10]",
         "failure_message": "Incorrect answer, try again!",
         "hidden": false,
         "locked": false,
         "success_message": "Good job!"
        }
       ],
       "scored": true,
       "setup": "",
       "teardown": "",
       "type": "doctest"
      }
     ]
    },
    "Task2": {
     "name": "Task2",
     "points": 1,
     "suites": [
      {
       "cases": [
        {
         "code": ">>> s = [[1, 2, 3], [4, 5, 6, 7], [8, 9, 10], [3, 5]]\n>>> ss = greedy_set(s)\n>>> ss[-1]\n[8, 9, 10]",
         "failure_message": "Incorrect answer, try again!",
         "hidden": false,
         "locked": false,
         "success_message": "Good job!"
        },
        {
         "code": ">>> s = [[1, 2, 3, 4, 5, 6, 7, 8], [2, 4, 6], [9], [10], [8]]\n>>> ss = greedy_set(s)\n>>> ss[-1]\n[10]",
         "failure_message": "Incorrect answer, try again!",
         "hidden": false,
         "locked": false,
         "success_message": "Good job!"
        }
       ],
       "scored": true,
       "setup": "",
       "teardown": "",
       "type": "doctest"
      }
     ]
    },
    "Task3": {
     "name": "Task3",
     "points": 2,
     "suites": [
      {
       "cases": [
        {
         "code": ">>> item_list1 = [['a', 4, 3000],['b', 1, 1500],['c', 3, 2000]]\n>>> g = knapsack_dp(5, item_list1)\n>>> g[-1][-1]\n4500",
         "failure_message": "Incorrect answer, try again!",
         "hidden": false,
         "locked": false,
         "success_message": "Good job!"
        },
        {
         "code": ">>> # the maximum weight for the bag\n>>> item_list1 = [['a', 2, 3000],['b', 1, 1500],['c', 1, 2000]]\n>>> g = knapsack_dp(5, item_list1)\n>>> g[-1][-1]\n6500",
         "failure_message": "Incorrect answer, try again!",
         "hidden": false,
         "locked": false,
         "success_message": "Good job!"
        }
       ],
       "scored": true,
       "setup": "",
       "teardown": "",
       "type": "doctest"
      }
     ]
    }
   }
  }
 },
 "nbformat": 4,
 "nbformat_minor": 5
}
