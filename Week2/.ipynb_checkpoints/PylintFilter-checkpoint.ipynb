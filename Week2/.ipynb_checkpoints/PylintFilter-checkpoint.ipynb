{
 "cells": [
  {
   "cell_type": "code",
   "execution_count": 1,
   "id": "3c2af2ff",
   "metadata": {},
   "outputs": [],
   "source": [
    "# This is our Pylint Filter File"
   ]
  },
  {
   "cell_type": "code",
   "execution_count": 2,
   "id": "f01841a5",
   "metadata": {},
   "outputs": [],
   "source": [
    "# Generate the pylint configuration file\n",
    "# ------------------------Guide---------------------------\n",
    "# 1. Go to the directory storing all of the python files to be evaluated using Pylint\n",
    "# 2. Run the command \"Pylint --generate-rcfile > .pylintrc\". A pylint configuration file named \".pylintrc\" should have been generated"
   ]
  },
  {
   "cell_type": "code",
   "execution_count": 15,
   "id": "ce4cf00c",
   "metadata": {},
   "outputs": [
    {
     "name": "stdout",
     "output_type": "stream",
     "text": [
      "File Finished!\n"
     ]
    },
    {
     "data": {
      "text/plain": [
       "[{'G0': [{'bad-indentation': 2}, {'invalid-name': 1}]},\n",
       " {'G1': [{'bad-indentation': 2}]},\n",
       " {'G2': [{'line-too-long': 2}, {'trailing-whitespace': 2}]}]"
      ]
     },
     "execution_count": 15,
     "metadata": {},
     "output_type": "execute_result"
    }
   ],
   "source": [
    "# Construct the contents groups that specified in the PylintFilter.txt file\n",
    "pylintGroupsSpecification = open(\"PylintFilter.txt\")\n",
    "lines = []\n",
    "while True:\n",
    "    line = pylintGroupsSpecification.readline()\n",
    "    lines.append(line)\n",
    "    if (\"\" == line):\n",
    "        print(\"File Finished!\")\n",
    "        break\n",
    "pylintGroupsSpecification.close()\n",
    "lines[len(lines) - 1] = \"--\"\n",
    "\n",
    "# Further Processing\n",
    "groups = []\n",
    "group = []\n",
    "for line in lines:\n",
    "    if line[0:2] == \"--\":\n",
    "        groups.append(group)\n",
    "        group = []\n",
    "    group.append(line)\n",
    "groups.pop(0)\n",
    "\n",
    "# Get the result\n",
    "groupErrorArray = []\n",
    "for singleGroup in groups:\n",
    "    groupName = singleGroup[0][2:].strip()\n",
    "    singleGroup.pop(0)\n",
    "    \n",
    "    curGroupErrorArray = []\n",
    "    for singleGroupError in singleGroup:\n",
    "        curLine = singleGroupError.split(\" \")\n",
    "        errorName = curLine[0]\n",
    "        severity = int(curLine[1].strip())\n",
    "        curDictionary = dict({errorName: severity})\n",
    "        curGroupErrorArray.append(curDictionary)    \n",
    "    groupErrorArray.append(dict({groupName: curGroupErrorArray}))\n",
    "groupErrorArray"
   ]
  },
  {
   "cell_type": "code",
   "execution_count": null,
   "id": "7b23af45",
   "metadata": {},
   "outputs": [],
   "source": [
    "import sys"
   ]
  },
  {
   "cell_type": "code",
   "execution_count": 17,
   "id": "07346789",
   "metadata": {},
   "outputs": [
    {
     "name": "stdout",
     "output_type": "stream",
     "text": [
      "Invalid argument: -f. Correct argument format should be '--disable=G1,G2,G3...'\n"
     ]
    },
    {
     "ename": "NameError",
     "evalue": "name 'severityLevel' is not defined",
     "output_type": "error",
     "traceback": [
      "\u001b[0;31m---------------------------------------------------------------------------\u001b[0m",
      "\u001b[0;31mNameError\u001b[0m                                 Traceback (most recent call last)",
      "\u001b[0;32m<ipython-input-17-c6aa77265bbf>\u001b[0m in \u001b[0;36m<module>\u001b[0;34m\u001b[0m\n\u001b[1;32m     26\u001b[0m             \u001b[0msys\u001b[0m\u001b[0;34m.\u001b[0m\u001b[0mexit\u001b[0m\u001b[0;34m(\u001b[0m\u001b[0;34m)\u001b[0m\u001b[0;34m\u001b[0m\u001b[0;34m\u001b[0m\u001b[0m\n\u001b[1;32m     27\u001b[0m \u001b[0;34m\u001b[0m\u001b[0m\n\u001b[0;32m---> 28\u001b[0;31m \u001b[0mseverityLevel\u001b[0m\u001b[0;34m\u001b[0m\u001b[0;34m\u001b[0m\u001b[0m\n\u001b[0m\u001b[1;32m     29\u001b[0m \u001b[0;32mif\u001b[0m \u001b[0mlen\u001b[0m\u001b[0;34m(\u001b[0m\u001b[0msys\u001b[0m\u001b[0;34m.\u001b[0m\u001b[0margv\u001b[0m\u001b[0;34m)\u001b[0m \u001b[0;34m>\u001b[0m \u001b[0;36m2\u001b[0m\u001b[0;34m:\u001b[0m\u001b[0;34m\u001b[0m\u001b[0;34m\u001b[0m\u001b[0m\n\u001b[1;32m     30\u001b[0m     \u001b[0mseverityLevel\u001b[0m \u001b[0;34m=\u001b[0m \u001b[0msys\u001b[0m\u001b[0;34m.\u001b[0m\u001b[0margv\u001b[0m\u001b[0;34m[\u001b[0m\u001b[0;36m2\u001b[0m\u001b[0;34m]\u001b[0m\u001b[0;34m\u001b[0m\u001b[0;34m\u001b[0m\u001b[0m\n",
      "\u001b[0;31mNameError\u001b[0m: name 'severityLevel' is not defined"
     ]
    }
   ],
   "source": [
    "# Read in command line arguments and construct the filters\n",
    "myFilter = set()\n",
    "\n",
    "def checkArguments(argv):\n",
    "    if argv[0] == 'S': return True\n",
    "    if argv[0] != 'G': \n",
    "        print(\"Invalid Argument: \" + argv + \". Please make sure group names start with 'G'\")\n",
    "        return False\n",
    "    if not argv[1:].isdigit(): \n",
    "        print(\"Invalid Argument: \" + argv + \". Please make sure group numbers are valid\")\n",
    "        return False\n",
    "    if argv[1] == '0' and len(argv) != 2:\n",
    "        print(\"Invalid Argument: \" + argv + \". Please make sure group numbers do not contain any trailing zeroes\")\n",
    "    return True\n",
    "\n",
    "# Check the argument format\n",
    "if sys.argv[1][0:10] != \"--disable=\":\n",
    "    print(\"Invalid argument: \" + sys.argv[1] + \". \" + \"Correct argument format should be '--disable=G1,G2,G3...S3'\")\n",
    "else:\n",
    "    errorMessageGroups = sys.argv[1][10:]\n",
    "    print(errorMessageGroups)\n",
    "#     if '' in errorMessageGroups:\n",
    "#         print(\"Invalid Argument: \" + errorMessageGroups + \". Please make sure there isn't any space in the argument\")\n",
    "#         sys.exit()\n",
    "    errorMessageGroups = errorMessageGroups.split(\",\")\n",
    "    \n",
    "    for errorMessage in errorMessageGroups:\n",
    "        if not checkArguments(errorMessage):\n",
    "            sys.exit()\n",
    "\n",
    "    if sys.argv[1][-2] == 'S':\n",
    "        serverityCode = int(sys.argv[1][-1])\n",
    "    else:\n",
    "        serverityCode = 10\n",
    "print(serverityCode)"
   ]
  },
  {
   "cell_type": "code",
   "execution_count": 5,
   "id": "04da2d9c",
   "metadata": {},
   "outputs": [],
   "source": [
    "# # Find the location to modify\n",
    "# with open(\".pylintrc\", \"r\") as configFile:\n",
    "#     contents = configFile.readlines()\n",
    " \n",
    "# word = \"disable\"\n",
    "\n",
    "# for line in contents:\n",
    "#     if line[0] != '#' and line[0 : len(word)] == word:\n",
    "#         disableLine = contents.index(line)\n",
    "    \n",
    "# configFile.close()"
   ]
  },
  {
   "cell_type": "code",
   "execution_count": 6,
   "id": "8f1c9b82",
   "metadata": {},
   "outputs": [],
   "source": [
    "# # Get the default filter\n",
    "# defaultFilter = []\n",
    "# while contents[disableLine].strip() :\n",
    "#     defaultFilter.append(contents[disableLine].strip(','))\n",
    "#     contents[disableLine] = \"\"\n",
    "#     disableLine += 1\n",
    "#     if contents[disableLine].startswith(\"#\"):\n",
    "#         break"
   ]
  },
  {
   "cell_type": "code",
   "execution_count": 7,
   "id": "5eaf4380",
   "metadata": {},
   "outputs": [],
   "source": [
    "# # Adding new error codes to disable\n",
    "# newFilter = list(defaultFilter)\n",
    "\n",
    "# # Add a comma to the current last error message\n",
    "# newFilter[len(newFilter) - 1] = newFilter[len(newFilter) - 1].strip('\\n')\n",
    "# newFilter[len(newFilter) - 1] += \",\\n\"\n",
    "# newFilter.append(\"#Default Filters Above\")\n",
    "# newFilter.append('\\n')\n",
    "\n",
    "# # Add user defined filters\n",
    "# for oneFilter in myFilter:\n",
    "#     newFilter.append(\"        \" + oneFilter + \",\\n\")\n",
    "    \n",
    "# # Remove the last comma\n",
    "# newFilter[len(newFilter) - 1] = newFilter[len(newFilter) - 1].strip('\\n').strip(',')\n",
    "# newFilter[len(newFilter) - 1] += \"\\n\"\n",
    "# newFilter"
   ]
  },
  {
   "cell_type": "code",
   "execution_count": 8,
   "id": "9b9a441d",
   "metadata": {},
   "outputs": [],
   "source": [
    "# configFile = open(\".pylintrc\", \"w\") \n",
    "\n",
    "# with open(\".pylintrc\", \"w\") as configFile:\n",
    "#     contents = \"\".join(contents)\n",
    "#     configFile.write(contents)\n",
    "#     filters = \"\".join(newFilter)\n",
    "#     configFile.write('\\n')\n",
    "#     configFile.write(filters)\n",
    "#     configFile.write('\\n')\n",
    "# contents\n",
    "# configFile.close()"
   ]
  }
 ],
 "metadata": {
  "kernelspec": {
   "display_name": "Python 3",
   "language": "python",
   "name": "python3"
  },
  "language_info": {
   "codemirror_mode": {
    "name": "ipython",
    "version": 3
   },
   "file_extension": ".py",
   "mimetype": "text/x-python",
   "name": "python",
   "nbconvert_exporter": "python",
   "pygments_lexer": "ipython3",
   "version": "3.8.8"
  },
  "vscode": {
   "interpreter": {
    "hash": "31f2aee4e71d21fbe5cf8b01ff0e069b9275f58929596ceb00d14d90e3e16cd6"
   }
  }
 },
 "nbformat": 4,
 "nbformat_minor": 5
}
