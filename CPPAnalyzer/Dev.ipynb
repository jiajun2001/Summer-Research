{
 "cells": [
  {
   "cell_type": "code",
   "execution_count": null,
   "id": "c88949b3",
   "metadata": {},
   "outputs": [],
   "source": []
  },
  {
   "cell_type": "code",
   "execution_count": 43,
   "id": "87d4949c",
   "metadata": {},
   "outputs": [],
   "source": [
    "# Load json data\n",
    "import json\n",
    "f = open(\"/Users/apple/Desktop/SummerResearch/CPPAnalyzer/temp/booleanOperatorNodes.json\")\n",
    "jsonData = json.load(f)"
   ]
  },
  {
   "cell_type": "code",
   "execution_count": 60,
   "id": "30600b04",
   "metadata": {},
   "outputs": [
    {
     "data": {
      "text/plain": [
       "{'id': '0x7f8d5f082640',\n",
       " 'kind': 'BinaryOperator',\n",
       " 'range': {'begin': {'offset': 386, 'col': 22, 'tokLen': 1, 'line': 16},\n",
       "  'end': {'offset': 404, 'col': 40, 'tokLen': 4}},\n",
       " 'type': {'qualType': 'bool'},\n",
       " 'valueCategory': 'prvalue',\n",
       " 'opcode': '&&',\n",
       " 'inner': [{'id': '0x7f8d5f082588',\n",
       "   'kind': 'BinaryOperator',\n",
       "   'range': {'begin': {'offset': 386, 'col': 22, 'tokLen': 1, 'line': 16},\n",
       "    'end': {'offset': 391, 'col': 27, 'tokLen': 4}},\n",
       "   'type': {'qualType': 'bool'},\n",
       "   'valueCategory': 'prvalue',\n",
       "   'opcode': '==',\n",
       "   'inner': [{'id': '0x7f8d5f082558',\n",
       "     'kind': 'ImplicitCastExpr',\n",
       "     'range': {'begin': {'offset': 386, 'col': 22, 'tokLen': 1},\n",
       "      'end': {'offset': 386, 'col': 22, 'tokLen': 1}},\n",
       "     'type': {'qualType': 'int'},\n",
       "     'valueCategory': 'prvalue',\n",
       "     'castKind': 'IntegralCast',\n",
       "     'inner': [{'id': '0x7f8d5f082540',\n",
       "       'kind': 'ImplicitCastExpr',\n",
       "       'range': {'begin': {'offset': 386, 'col': 22, 'tokLen': 1},\n",
       "        'end': {'offset': 386, 'col': 22, 'tokLen': 1}},\n",
       "       'type': {'qualType': 'bool'},\n",
       "       'valueCategory': 'prvalue',\n",
       "       'castKind': 'LValueToRValue',\n",
       "       'inner': [{'id': '0x7f8d5f082510',\n",
       "         'kind': 'DeclRefExpr',\n",
       "         'range': {'begin': {'offset': 386, 'col': 22, 'tokLen': 1},\n",
       "          'end': {'offset': 386, 'col': 22, 'tokLen': 1}},\n",
       "         'type': {'qualType': 'bool'},\n",
       "         'valueCategory': 'lvalue',\n",
       "         'referencedDecl': {'id': '0x7f8d5f081ee0',\n",
       "          'kind': 'VarDecl',\n",
       "          'name': 'd',\n",
       "          'type': {'qualType': 'bool'}}}]}]},\n",
       "    {'id': '0x7f8d5f082570',\n",
       "     'kind': 'ImplicitCastExpr',\n",
       "     'range': {'begin': {'offset': 391, 'col': 27, 'tokLen': 4},\n",
       "      'end': {'offset': 391, 'col': 27, 'tokLen': 4}},\n",
       "     'type': {'qualType': 'int'},\n",
       "     'valueCategory': 'prvalue',\n",
       "     'castKind': 'IntegralCast',\n",
       "     'inner': [{'id': '0x7f8d5f082530',\n",
       "       'kind': 'CXXBoolLiteralExpr',\n",
       "       'range': {'begin': {'offset': 391, 'col': 27, 'tokLen': 4},\n",
       "        'end': {'offset': 391, 'col': 27, 'tokLen': 4}},\n",
       "       'type': {'qualType': 'bool'},\n",
       "       'valueCategory': 'prvalue',\n",
       "       'value': True}]}]},\n",
       "  {'id': '0x7f8d5f082620',\n",
       "   'kind': 'BinaryOperator',\n",
       "   'range': {'begin': {'offset': 399, 'col': 35, 'tokLen': 1, 'line': 16},\n",
       "    'end': {'offset': 404, 'col': 40, 'tokLen': 4}},\n",
       "   'type': {'qualType': 'bool'},\n",
       "   'valueCategory': 'prvalue',\n",
       "   'opcode': '==',\n",
       "   'inner': [{'id': '0x7f8d5f0825f0',\n",
       "     'kind': 'ImplicitCastExpr',\n",
       "     'range': {'begin': {'offset': 399, 'col': 35, 'tokLen': 1},\n",
       "      'end': {'offset': 399, 'col': 35, 'tokLen': 1}},\n",
       "     'type': {'qualType': 'int'},\n",
       "     'valueCategory': 'prvalue',\n",
       "     'castKind': 'IntegralCast',\n",
       "     'inner': [{'id': '0x7f8d5f0825d8',\n",
       "       'kind': 'ImplicitCastExpr',\n",
       "       'range': {'begin': {'offset': 399, 'col': 35, 'tokLen': 1},\n",
       "        'end': {'offset': 399, 'col': 35, 'tokLen': 1}},\n",
       "       'type': {'qualType': 'bool'},\n",
       "       'valueCategory': 'prvalue',\n",
       "       'castKind': 'LValueToRValue',\n",
       "       'inner': [{'id': '0x7f8d5f0825a8',\n",
       "         'kind': 'DeclRefExpr',\n",
       "         'range': {'begin': {'offset': 399, 'col': 35, 'tokLen': 1},\n",
       "          'end': {'offset': 399, 'col': 35, 'tokLen': 1}},\n",
       "         'type': {'qualType': 'bool'},\n",
       "         'valueCategory': 'lvalue',\n",
       "         'referencedDecl': {'id': '0x7f8d5f081d00',\n",
       "          'kind': 'VarDecl',\n",
       "          'name': 'a',\n",
       "          'type': {'qualType': 'bool'}}}]}]},\n",
       "    {'id': '0x7f8d5f082608',\n",
       "     'kind': 'ImplicitCastExpr',\n",
       "     'range': {'begin': {'offset': 404, 'col': 40, 'tokLen': 4},\n",
       "      'end': {'offset': 404, 'col': 40, 'tokLen': 4}},\n",
       "     'type': {'qualType': 'int'},\n",
       "     'valueCategory': 'prvalue',\n",
       "     'castKind': 'IntegralCast',\n",
       "     'inner': [{'id': '0x7f8d5f0825c8',\n",
       "       'kind': 'CXXBoolLiteralExpr',\n",
       "       'range': {'begin': {'offset': 404, 'col': 40, 'tokLen': 4},\n",
       "        'end': {'offset': 404, 'col': 40, 'tokLen': 4}},\n",
       "       'type': {'qualType': 'bool'},\n",
       "       'valueCategory': 'prvalue',\n",
       "       'value': True}]}]}]}"
      ]
     },
     "execution_count": 60,
     "metadata": {},
     "output_type": "execute_result"
    }
   ],
   "source": [
    "jsonData[13\n",
    "        ]"
   ]
  }
 ],
 "metadata": {
  "kernelspec": {
   "display_name": "Python 3",
   "language": "python",
   "name": "python3"
  },
  "language_info": {
   "codemirror_mode": {
    "name": "ipython",
    "version": 3
   },
   "file_extension": ".py",
   "mimetype": "text/x-python",
   "name": "python",
   "nbconvert_exporter": "python",
   "pygments_lexer": "ipython3",
   "version": "3.8.8"
  },
  "vscode": {
   "interpreter": {
    "hash": "1a1af0ee75eeea9e2e1ee996c87e7a2b11a0bebd85af04bb136d915cefc0abce"
   }
  }
 },
 "nbformat": 4,
 "nbformat_minor": 5
}
