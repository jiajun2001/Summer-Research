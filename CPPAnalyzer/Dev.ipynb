{
 "cells": [
  {
   "cell_type": "code",
   "execution_count": null,
   "id": "c88949b3",
   "metadata": {},
   "outputs": [],
   "source": []
  },
  {
   "cell_type": "code",
   "execution_count": 75,
   "id": "87d4949c",
   "metadata": {},
   "outputs": [],
   "source": [
    "# Load json data\n",
    "import json\n",
    "f = open(\"/Users/apple/Desktop/SummerResearch/CPPAnalyzer/temp/BooleanOperatorNodes.json\")\n",
    "jsonData = json.load(f)"
   ]
  },
  {
   "cell_type": "code",
   "execution_count": 76,
   "id": "90409dfc",
   "metadata": {},
   "outputs": [
    {
     "data": {
      "text/plain": [
       "{'id': '0x7fb8fe86d078',\n",
       " 'kind': 'BinaryOperator',\n",
       " 'range': {'begin': {'offset': 242, 'col': 27, 'tokLen': 1, 'line': 12},\n",
       "  'end': {'offset': 247, 'col': 32, 'tokLen': 4}},\n",
       " 'type': {'qualType': 'bool'},\n",
       " 'valueCategory': 'prvalue',\n",
       " 'opcode': '==',\n",
       " 'inner': [{'id': '0x7fb8fe86d048',\n",
       "   'kind': 'ImplicitCastExpr',\n",
       "   'range': {'begin': {'offset': 242, 'col': 27, 'tokLen': 1},\n",
       "    'end': {'offset': 242, 'col': 27, 'tokLen': 1}},\n",
       "   'type': {'qualType': 'int'},\n",
       "   'valueCategory': 'prvalue',\n",
       "   'castKind': 'IntegralCast',\n",
       "   'inner': [{'id': '0x7fb8fe86d030',\n",
       "     'kind': 'ImplicitCastExpr',\n",
       "     'range': {'begin': {'offset': 242, 'col': 27, 'tokLen': 1},\n",
       "      'end': {'offset': 242, 'col': 27, 'tokLen': 1}},\n",
       "     'type': {'qualType': 'bool'},\n",
       "     'valueCategory': 'prvalue',\n",
       "     'castKind': 'LValueToRValue',\n",
       "     'inner': [{'id': '0x7fb8fe86d000',\n",
       "       'kind': 'DeclRefExpr',\n",
       "       'range': {'begin': {'offset': 242, 'col': 27, 'tokLen': 1},\n",
       "        'end': {'offset': 242, 'col': 27, 'tokLen': 1}},\n",
       "       'type': {'qualType': 'bool'},\n",
       "       'valueCategory': 'lvalue',\n",
       "       'referencedDecl': {'id': '0x7fb8fe86cd68',\n",
       "        'kind': 'VarDecl',\n",
       "        'name': 'b',\n",
       "        'type': {'qualType': 'bool'}}}]}]},\n",
       "  {'id': '0x7fb8fe86d060',\n",
       "   'kind': 'ImplicitCastExpr',\n",
       "   'range': {'begin': {'offset': 247, 'col': 32, 'tokLen': 4},\n",
       "    'end': {'offset': 247, 'col': 32, 'tokLen': 4}},\n",
       "   'type': {'qualType': 'int'},\n",
       "   'valueCategory': 'prvalue',\n",
       "   'castKind': 'IntegralCast',\n",
       "   'inner': [{'id': '0x7fb8fe86d020',\n",
       "     'kind': 'CXXBoolLiteralExpr',\n",
       "     'range': {'begin': {'offset': 247, 'col': 32, 'tokLen': 4},\n",
       "      'end': {'offset': 247, 'col': 32, 'tokLen': 4}},\n",
       "     'type': {'qualType': 'bool'},\n",
       "     'valueCategory': 'prvalue',\n",
       "     'value': True}]}]}"
      ]
     },
     "execution_count": 76,
     "metadata": {},
     "output_type": "execute_result"
    }
   ],
   "source": [
    "jsonData[2]"
   ]
  }
 ],
 "metadata": {
  "kernelspec": {
   "display_name": "Python 3",
   "language": "python",
   "name": "python3"
  },
  "language_info": {
   "codemirror_mode": {
    "name": "ipython",
    "version": 3
   },
   "file_extension": ".py",
   "mimetype": "text/x-python",
   "name": "python",
   "nbconvert_exporter": "python",
   "pygments_lexer": "ipython3",
   "version": "3.11.1 (main, Dec 23 2022, 09:39:26) [Clang 14.0.0 (clang-1400.0.29.202)]"
  },
  "vscode": {
   "interpreter": {
    "hash": "1a1af0ee75eeea9e2e1ee996c87e7a2b11a0bebd85af04bb136d915cefc0abce"
   }
  }
 },
 "nbformat": 4,
 "nbformat_minor": 5
}
