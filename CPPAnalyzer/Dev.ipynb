{
 "cells": [
  {
   "cell_type": "code",
   "execution_count": null,
   "id": "c88949b3",
   "metadata": {},
   "outputs": [],
   "source": []
  },
  {
   "cell_type": "code",
   "execution_count": 45,
   "id": "87d4949c",
   "metadata": {},
   "outputs": [],
   "source": [
    "# Load json data\n",
    "import json\n",
    "f = open(\"/Users/apple/Desktop/SummerResearch/CPPAnalyzer/temp/temp.json\")\n",
    "jsonData = json.load(f)"
   ]
  },
  {
   "cell_type": "code",
   "execution_count": 51,
   "id": "30600b04",
   "metadata": {},
   "outputs": [
    {
     "data": {
      "text/plain": [
       "{'id': '0x7fb76d882130',\n",
       " 'kind': 'ReturnStmt',\n",
       " 'range': {'begin': {'offset': 331, 'line': 17, 'col': 5, 'tokLen': 6},\n",
       "  'end': {'offset': 338, 'col': 12, 'tokLen': 4}},\n",
       " 'inner': [{'id': '0x7fb76d882120',\n",
       "   'kind': 'CXXBoolLiteralExpr',\n",
       "   'range': {'begin': {'offset': 338, 'col': 12, 'tokLen': 4},\n",
       "    'end': {'offset': 338, 'col': 12, 'tokLen': 4}},\n",
       "   'type': {'qualType': 'bool'},\n",
       "   'valueCategory': 'prvalue',\n",
       "   'value': True}]}"
      ]
     },
     "execution_count": 51,
     "metadata": {},
     "output_type": "execute_result"
    }
   ],
   "source": [
    "jsonData[1][1]"
   ]
  }
 ],
 "metadata": {
  "kernelspec": {
   "display_name": "Python 3",
   "language": "python",
   "name": "python3"
  },
  "language_info": {
   "codemirror_mode": {
    "name": "ipython",
    "version": 3
   },
   "file_extension": ".py",
   "mimetype": "text/x-python",
   "name": "python",
   "nbconvert_exporter": "python",
   "pygments_lexer": "ipython3",
   "version": "3.8.8"
  },
  "vscode": {
   "interpreter": {
    "hash": "1a1af0ee75eeea9e2e1ee996c87e7a2b11a0bebd85af04bb136d915cefc0abce"
   }
  }
 },
 "nbformat": 4,
 "nbformat_minor": 5
}
