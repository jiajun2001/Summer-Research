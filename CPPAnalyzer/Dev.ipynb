{
 "cells": [
  {
   "cell_type": "code",
   "execution_count": null,
   "id": "c88949b3",
   "metadata": {},
   "outputs": [],
   "source": []
  },
  {
   "cell_type": "code",
   "execution_count": 45,
   "id": "87d4949c",
   "metadata": {},
   "outputs": [],
   "source": [
    "# Load json data\n",
    "import json\n",
    "f = open(\"/Users/apple/Desktop/SummerResearch/CPPAnalyzer/temp/temp.json\")\n",
    "jsonData = json.load(f)"
   ]
  },
  {
   "cell_type": "code",
   "execution_count": 51,
   "id": "90409dfc",
   "metadata": {},
   "outputs": [
    {
     "data": {
      "text/plain": [
       "[{'id': '0x7fbe7f8820e8',\n",
       "  'kind': 'IfStmt',\n",
       "  'range': {'begin': {'offset': 268, 'line': 14, 'col': 9, 'tokLen': 2},\n",
       "   'end': {'offset': 285, 'col': 26, 'tokLen': 5}},\n",
       "  'inner': [{'id': '0x7fbe7f8820b0',\n",
       "    'kind': 'ImplicitCastExpr',\n",
       "    'range': {'begin': {'offset': 272, 'col': 13, 'tokLen': 4},\n",
       "     'end': {'offset': 272, 'col': 13, 'tokLen': 4}},\n",
       "    'type': {'qualType': 'bool'},\n",
       "    'valueCategory': 'prvalue',\n",
       "    'castKind': 'LValueToRValue',\n",
       "    'inner': [{'id': '0x7fbe7f882090',\n",
       "      'kind': 'DeclRefExpr',\n",
       "      'range': {'begin': {'offset': 272, 'col': 13, 'tokLen': 4},\n",
       "       'end': {'offset': 272, 'col': 13, 'tokLen': 4}},\n",
       "      'type': {'qualType': 'bool'},\n",
       "      'valueCategory': 'lvalue',\n",
       "      'referencedDecl': {'id': '0x7fbe7f881ef0',\n",
       "       'kind': 'VarDecl',\n",
       "       'name': 'flag',\n",
       "       'type': {'qualType': 'bool'}}}]},\n",
       "   {'id': '0x7fbe7f8820d8',\n",
       "    'kind': 'ReturnStmt',\n",
       "    'range': {'begin': {'offset': 278, 'col': 19, 'tokLen': 6},\n",
       "     'end': {'offset': 285, 'col': 26, 'tokLen': 5}},\n",
       "    'inner': [{'id': '0x7fbe7f8820c8',\n",
       "      'kind': 'CXXBoolLiteralExpr',\n",
       "      'range': {'begin': {'offset': 285, 'col': 26, 'tokLen': 5},\n",
       "       'end': {'offset': 285, 'col': 26, 'tokLen': 5}},\n",
       "      'type': {'qualType': 'bool'},\n",
       "      'valueCategory': 'prvalue',\n",
       "      'value': False}]}]},\n",
       " {'id': '0x7fbe7f882118',\n",
       "  'kind': 'ReturnStmt',\n",
       "  'range': {'begin': {'offset': 300, 'line': 15, 'col': 9, 'tokLen': 6},\n",
       "   'end': {'offset': 307, 'col': 16, 'tokLen': 5}},\n",
       "  'inner': [{'id': '0x7fbe7f882108',\n",
       "    'kind': 'CXXBoolLiteralExpr',\n",
       "    'range': {'begin': {'offset': 307, 'col': 16, 'tokLen': 5},\n",
       "     'end': {'offset': 307, 'col': 16, 'tokLen': 5}},\n",
       "    'type': {'qualType': 'bool'},\n",
       "    'valueCategory': 'prvalue',\n",
       "    'value': False}]}]"
      ]
     },
     "execution_count": 51,
     "metadata": {},
     "output_type": "execute_result"
    }
   ],
   "source": [
    "jsonData[0]"
   ]
  }
 ],
 "metadata": {
  "kernelspec": {
   "display_name": "Python 3",
   "language": "python",
   "name": "python3"
  },
  "language_info": {
   "codemirror_mode": {
    "name": "ipython",
    "version": 3
   },
   "file_extension": ".py",
   "mimetype": "text/x-python",
   "name": "python",
   "nbconvert_exporter": "python",
   "pygments_lexer": "ipython3",
   "version": "3.8.8"
  },
  "vscode": {
   "interpreter": {
    "hash": "1a1af0ee75eeea9e2e1ee996c87e7a2b11a0bebd85af04bb136d915cefc0abce"
   }
  }
 },
 "nbformat": 4,
 "nbformat_minor": 5
}
