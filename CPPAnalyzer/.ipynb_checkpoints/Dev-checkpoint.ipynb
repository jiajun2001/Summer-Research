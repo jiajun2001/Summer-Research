{
 "cells": [
  {
   "cell_type": "code",
   "execution_count": null,
   "id": "c88949b3",
   "metadata": {},
   "outputs": [],
   "source": []
  },
  {
   "cell_type": "code",
   "execution_count": 4,
   "id": "87d4949c",
   "metadata": {},
   "outputs": [],
   "source": [
    "# Load json data\n",
    "import json\n",
    "f = open(\"/Users/apple/Desktop/SummerResearch/CPPAnalyzer/temp/functionNodes.json\")\n",
    "jsonData = json.load(f)"
   ]
  },
  {
   "cell_type": "code",
   "execution_count": 17,
   "id": "4cfb4ec6",
   "metadata": {},
   "outputs": [
    {
     "data": {
      "text/plain": [
       "[{'id': '0x7fe18b9315b0',\n",
       "  'kind': 'CompoundStmt',\n",
       "  'range': {'begin': {'offset': 126, 'line': 11, 'col': 12, 'tokLen': 1},\n",
       "   'end': {'offset': 168, 'line': 14, 'col': 1, 'tokLen': 1}},\n",
       "  'inner': [{'id': '0x7fe18b931518',\n",
       "    'kind': 'CXXOperatorCallExpr',\n",
       "    'range': {'begin': {'offset': 132, 'line': 12, 'col': 5, 'tokLen': 4},\n",
       "     'end': {'offset': 148, 'col': 21, 'tokLen': 4}},\n",
       "    'type': {'qualType': 'std::ostream'},\n",
       "    'valueCategory': 'lvalue',\n",
       "    'inner': [{'id': '0x7fe18b931500',\n",
       "      'kind': 'ImplicitCastExpr',\n",
       "      'range': {'begin': {'offset': 145, 'col': 18, 'tokLen': 2},\n",
       "       'end': {'offset': 145, 'col': 18, 'tokLen': 2}},\n",
       "      'type': {'qualType': 'std::ostream &(*)(std::ostream &(*)(std::ostream &))'},\n",
       "      'valueCategory': 'prvalue',\n",
       "      'castKind': 'FunctionToPointerDecay',\n",
       "      'inner': [{'id': '0x7fe18b931480',\n",
       "        'kind': 'DeclRefExpr',\n",
       "        'range': {'begin': {'offset': 145, 'col': 18, 'tokLen': 2},\n",
       "         'end': {'offset': 145, 'col': 18, 'tokLen': 2}},\n",
       "        'type': {'qualType': 'std::ostream &(std::ostream &(*)(std::ostream &))'},\n",
       "        'valueCategory': 'lvalue',\n",
       "        'referencedDecl': {'id': '0x7fe18b8d3288',\n",
       "         'kind': 'CXXMethodDecl',\n",
       "         'name': 'operator<<',\n",
       "         'type': {'qualType': 'std::ostream &(std::ostream &(*)(std::ostream &))'}}}]},\n",
       "     {'id': '0x7fe18b92f918',\n",
       "      'kind': 'CXXOperatorCallExpr',\n",
       "      'range': {'begin': {'offset': 132, 'col': 5, 'tokLen': 4},\n",
       "       'end': {'offset': 140, 'col': 13, 'tokLen': 4}},\n",
       "      'type': {'desugaredQualType': 'std::ostream',\n",
       "       'qualType': 'basic_ostream<char, std::char_traits<char> >'},\n",
       "      'valueCategory': 'lvalue',\n",
       "      'inner': [{'id': '0x7fe18b92f900',\n",
       "        'kind': 'ImplicitCastExpr',\n",
       "        'range': {'begin': {'offset': 137, 'col': 10, 'tokLen': 2},\n",
       "         'end': {'offset': 137, 'col': 10, 'tokLen': 2}},\n",
       "        'type': {'qualType': 'basic_ostream<char, std::char_traits<char> > &(*)(basic_ostream<char, std::char_traits<char> > &, const char *)'},\n",
       "        'valueCategory': 'prvalue',\n",
       "        'castKind': 'FunctionToPointerDecay',\n",
       "        'inner': [{'id': '0x7fe18b92f878',\n",
       "          'kind': 'DeclRefExpr',\n",
       "          'range': {'begin': {'offset': 137, 'col': 10, 'tokLen': 2},\n",
       "           'end': {'offset': 137, 'col': 10, 'tokLen': 2}},\n",
       "          'type': {'qualType': 'basic_ostream<char, std::char_traits<char> > &(basic_ostream<char, std::char_traits<char> > &, const char *)'},\n",
       "          'valueCategory': 'lvalue',\n",
       "          'referencedDecl': {'id': '0x7fe18b92e088',\n",
       "           'kind': 'FunctionDecl',\n",
       "           'name': 'operator<<',\n",
       "           'type': {'qualType': 'basic_ostream<char, std::char_traits<char> > &(basic_ostream<char, std::char_traits<char> > &, const char *)'}}}]},\n",
       "       {'id': '0x7fe18b92d160',\n",
       "        'kind': 'DeclRefExpr',\n",
       "        'range': {'begin': {'offset': 132, 'col': 5, 'tokLen': 4},\n",
       "         'end': {'offset': 132, 'col': 5, 'tokLen': 4}},\n",
       "        'type': {'desugaredQualType': 'std::ostream',\n",
       "         'qualType': 'std::ostream',\n",
       "         'typeAliasDeclId': '0x7fe1898646e0'},\n",
       "        'valueCategory': 'lvalue',\n",
       "        'referencedDecl': {'id': '0x7fe18b92caa8',\n",
       "         'kind': 'VarDecl',\n",
       "         'name': 'cout',\n",
       "         'type': {'desugaredQualType': 'std::ostream',\n",
       "          'qualType': 'std::ostream',\n",
       "          'typeAliasDeclId': '0x7fe1898646e0'}}},\n",
       "       {'id': '0x7fe18b92f860',\n",
       "        'kind': 'ImplicitCastExpr',\n",
       "        'range': {'begin': {'offset': 140, 'col': 13, 'tokLen': 4},\n",
       "         'end': {'offset': 140, 'col': 13, 'tokLen': 4}},\n",
       "        'type': {'qualType': 'const char *'},\n",
       "        'valueCategory': 'prvalue',\n",
       "        'castKind': 'ArrayToPointerDecay',\n",
       "        'inner': [{'id': '0x7fe18b92d180',\n",
       "          'kind': 'StringLiteral',\n",
       "          'range': {'begin': {'offset': 140, 'col': 13, 'tokLen': 4},\n",
       "           'end': {'offset': 140, 'col': 13, 'tokLen': 4}},\n",
       "          'type': {'qualType': 'const char[3]'},\n",
       "          'valueCategory': 'lvalue',\n",
       "          'value': '\"aa\"'}]}]},\n",
       "     {'id': '0x7fe18b931468',\n",
       "      'kind': 'ImplicitCastExpr',\n",
       "      'range': {'begin': {'offset': 148, 'col': 21, 'tokLen': 4},\n",
       "       'end': {'offset': 148, 'col': 21, 'tokLen': 4}},\n",
       "      'type': {'qualType': 'basic_ostream<char, std::char_traits<char> > &(*)(basic_ostream<char, std::char_traits<char> > &)'},\n",
       "      'valueCategory': 'prvalue',\n",
       "      'castKind': 'FunctionToPointerDecay',\n",
       "      'inner': [{'id': '0x7fe18b931440',\n",
       "        'kind': 'DeclRefExpr',\n",
       "        'range': {'begin': {'offset': 148, 'col': 21, 'tokLen': 4},\n",
       "         'end': {'offset': 148, 'col': 21, 'tokLen': 4}},\n",
       "        'type': {'qualType': 'basic_ostream<char, std::char_traits<char> > &(basic_ostream<char, std::char_traits<char> > &)'},\n",
       "        'valueCategory': 'lvalue',\n",
       "        'referencedDecl': {'id': '0x7fe18b930f08',\n",
       "         'kind': 'FunctionDecl',\n",
       "         'name': 'endl',\n",
       "         'type': {'qualType': 'basic_ostream<char, std::char_traits<char> > &(basic_ostream<char, std::char_traits<char> > &)'}},\n",
       "        'foundReferencedDecl': {'id': '0x7fe18b8c9fa8',\n",
       "         'kind': 'FunctionTemplateDecl',\n",
       "         'name': 'endl'}}]}]},\n",
       "   {'id': '0x7fe18b9315a0',\n",
       "    'kind': 'ReturnStmt',\n",
       "    'range': {'begin': {'offset': 158, 'line': 13, 'col': 5, 'tokLen': 6},\n",
       "     'end': {'offset': 165, 'col': 12, 'tokLen': 1}},\n",
       "    'inner': [{'id': '0x7fe18b931580',\n",
       "      'kind': 'IntegerLiteral',\n",
       "      'range': {'begin': {'offset': 165, 'col': 12, 'tokLen': 1},\n",
       "       'end': {'offset': 165, 'col': 12, 'tokLen': 1}},\n",
       "      'type': {'qualType': 'int'},\n",
       "      'valueCategory': 'prvalue',\n",
       "      'value': '0'}]}]}]"
      ]
     },
     "execution_count": 17,
     "metadata": {},
     "output_type": "execute_result"
    }
   ],
   "source": [
    "jsonData[0][\"inner\"]"
   ]
  },
  {
   "cell_type": "code",
   "execution_count": 5,
   "id": "059f9f85",
   "metadata": {},
   "outputs": [
    {
     "ename": "TypeError",
     "evalue": "list indices must be integers or slices, not str",
     "output_type": "error",
     "traceback": [
      "\u001b[0;31m---------------------------------------------------------------------------\u001b[0m",
      "\u001b[0;31mTypeError\u001b[0m                                 Traceback (most recent call last)",
      "\u001b[0;32m<ipython-input-5-d396cb68d330>\u001b[0m in \u001b[0;36m<module>\u001b[0;34m\u001b[0m\n\u001b[1;32m      1\u001b[0m \u001b[0;31m# Get function nodes\u001b[0m\u001b[0;34m\u001b[0m\u001b[0;34m\u001b[0m\u001b[0;34m\u001b[0m\u001b[0m\n\u001b[0;32m----> 2\u001b[0;31m \u001b[0mindex\u001b[0m \u001b[0;34m=\u001b[0m \u001b[0mlen\u001b[0m\u001b[0;34m(\u001b[0m\u001b[0mjsonData\u001b[0m\u001b[0;34m[\u001b[0m\u001b[0;34m\"inner\"\u001b[0m\u001b[0;34m]\u001b[0m\u001b[0;34m)\u001b[0m \u001b[0;34m-\u001b[0m \u001b[0;36m1\u001b[0m\u001b[0;34m\u001b[0m\u001b[0;34m\u001b[0m\u001b[0m\n\u001b[0m\u001b[1;32m      3\u001b[0m \u001b[0mfunctionNodes\u001b[0m \u001b[0;34m=\u001b[0m \u001b[0;34m[\u001b[0m\u001b[0;34m]\u001b[0m\u001b[0;34m\u001b[0m\u001b[0;34m\u001b[0m\u001b[0m\n\u001b[1;32m      4\u001b[0m \u001b[0;32mwhile\u001b[0m \u001b[0;32mTrue\u001b[0m\u001b[0;34m:\u001b[0m\u001b[0;34m\u001b[0m\u001b[0;34m\u001b[0m\u001b[0m\n\u001b[1;32m      5\u001b[0m     \u001b[0mnode\u001b[0m \u001b[0;34m=\u001b[0m \u001b[0mjsonData\u001b[0m\u001b[0;34m[\u001b[0m\u001b[0;34m\"inner\"\u001b[0m\u001b[0;34m]\u001b[0m\u001b[0;34m[\u001b[0m\u001b[0mindex\u001b[0m\u001b[0;34m]\u001b[0m\u001b[0;34m\u001b[0m\u001b[0;34m\u001b[0m\u001b[0m\n",
      "\u001b[0;31mTypeError\u001b[0m: list indices must be integers or slices, not str"
     ]
    }
   ],
   "source": [
    "# Get function nodes\n",
    "index = len(jsonData[\"inner\"]) - 1\n",
    "functionNodes = []\n",
    "while True:\n",
    "    node = jsonData[\"inner\"][index]\n",
    "    if node[\"name\"] != \"XX_MARKER_XX\":\n",
    "        functionNodes.append(node)\n",
    "        index -= 1\n",
    "    else:\n",
    "        break;"
   ]
  },
  {
   "cell_type": "code",
   "execution_count": 7,
   "id": "9ee28326",
   "metadata": {},
   "outputs": [
    {
     "name": "stdout",
     "output_type": "stream",
     "text": [
      "1\n"
     ]
    }
   ],
   "source": [
    "print(len(functionNodes))"
   ]
  }
 ],
 "metadata": {
  "kernelspec": {
   "display_name": "Python 3",
   "language": "python",
   "name": "python3"
  },
  "language_info": {
   "codemirror_mode": {
    "name": "ipython",
    "version": 3
   },
   "file_extension": ".py",
   "mimetype": "text/x-python",
   "name": "python",
   "nbconvert_exporter": "python",
   "pygments_lexer": "ipython3",
   "version": "3.8.8"
  },
  "vscode": {
   "interpreter": {
    "hash": "1a1af0ee75eeea9e2e1ee996c87e7a2b11a0bebd85af04bb136d915cefc0abce"
   }
  }
 },
 "nbformat": 4,
 "nbformat_minor": 5
}
