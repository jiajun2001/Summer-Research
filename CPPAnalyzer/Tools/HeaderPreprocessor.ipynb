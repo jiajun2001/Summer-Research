{
 "cells": [
  {
   "cell_type": "code",
   "execution_count": null,
   "id": "f80a7736",
   "metadata": {},
   "outputs": [],
   "source": [
    "# cpp file preporcessing"
   ]
  },
  {
   "cell_type": "code",
   "execution_count": 5,
   "id": "57717c89",
   "metadata": {},
   "outputs": [],
   "source": [
    "import os\n",
    "\n",
    "# Absolute path of a file\n",
    "old_name = r\"/Users/apple/Desktop/test.cpp\"\n",
    "new_name = r\"/Users/apple/Desktop/test.txt\"\n",
    "\n",
    "# Renaming the file\n",
    "os.rename(old_name, new_name)\n",
    "contents = []\n",
    "with open(\"/Users/apple/Desktop/test.txt\", \"r\") as configFile:\n",
    "    contents = configFile.readlines()   \n",
    "\n",
    "# Collect all header file and namespace declaration\n",
    "headers = []\n",
    "for i in reversed(range(len(contents))):\n",
    "    statement = contents[i]\n",
    "    if \"#include\" in statement or \"using namespace\" in statement:\n",
    "        contents.pop(i)\n",
    "        headers.append(statement)\n",
    "        \n",
    "# Append XX_MARKER_XX into file     \n",
    "headers.append(\"int XX_MARKER_XX;\\n\")\n",
    "\n",
    "# Append all headers and namespace declaration at the start of the file\n",
    "with open(\"/Users/apple/Desktop/test.txt\", \"w\") as configFile:\n",
    "    headers = \"\".join(headers)\n",
    "    configFile.write(headers)         \n",
    "    contents = \"\".join(contents)\n",
    "    configFile.write(contents)         \n",
    "             \n",
    "os.rename(new_name, old_name) \n",
    "configFile.close()"
   ]
  }
 ],
 "metadata": {
  "kernelspec": {
   "display_name": "Python 3",
   "language": "python",
   "name": "python3"
  },
  "language_info": {
   "codemirror_mode": {
    "name": "ipython",
    "version": 3
   },
   "file_extension": ".py",
   "mimetype": "text/x-python",
   "name": "python",
   "nbconvert_exporter": "python",
   "pygments_lexer": "ipython3",
   "version": "3.8.8"
  }
 },
 "nbformat": 4,
 "nbformat_minor": 5
}
